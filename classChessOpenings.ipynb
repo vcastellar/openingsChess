{
  "nbformat": 4,
  "nbformat_minor": 0,
  "metadata": {
    "colab": {
      "provenance": [],
      "authorship_tag": "ABX9TyPy3jy/F36JDKIPvjC6HuL7",
      "include_colab_link": true
    },
    "kernelspec": {
      "name": "python3",
      "display_name": "Python 3"
    },
    "language_info": {
      "name": "python"
    }
  },
  "cells": [
    {
      "cell_type": "markdown",
      "metadata": {
        "id": "view-in-github",
        "colab_type": "text"
      },
      "source": [
        "<a href=\"https://colab.research.google.com/github/vcastellar/openingsChess/blob/main/classChessOpenings.ipynb\" target=\"_parent\"><img src=\"https://colab.research.google.com/assets/colab-badge.svg\" alt=\"Open In Colab\"/></a>"
      ]
    },
    {
      "cell_type": "markdown",
      "source": [
        "# Clasificador de Posiciones por Aperturas Posibles\n",
        "\n",
        "Se pueden obtener partidas de los siguientes sitios:\n",
        "\n",
        "+ https://database.lichess.org/\n",
        "+ https://www.kingbase-chess.net/\n",
        "+ https://www.ficsgames.org/"
      ],
      "metadata": {
        "id": "04zqazkg6ZCD"
      }
    },
    {
      "cell_type": "code",
      "source": [
        "!pip install python-chess"
      ],
      "metadata": {
        "colab": {
          "base_uri": "https://localhost:8080/"
        },
        "id": "4vdU8hVswRrF",
        "outputId": "cec4d419-cc0b-4654-9bf9-16ff1942a5c9"
      },
      "execution_count": null,
      "outputs": [
        {
          "output_type": "stream",
          "name": "stdout",
          "text": [
            "Collecting python-chess\n",
            "  Downloading python_chess-1.999-py3-none-any.whl.metadata (776 bytes)\n",
            "Collecting chess<2,>=1 (from python-chess)\n",
            "  Downloading chess-1.11.2.tar.gz (6.1 MB)\n",
            "\u001b[2K     \u001b[90m━━━━━━━━━━━━━━━━━━━━━━━━━━━━━━━━━━━━━━━━\u001b[0m \u001b[32m6.1/6.1 MB\u001b[0m \u001b[31m39.1 MB/s\u001b[0m eta \u001b[36m0:00:00\u001b[0m\n",
            "\u001b[?25h  Preparing metadata (setup.py) ... \u001b[?25l\u001b[?25hdone\n",
            "Downloading python_chess-1.999-py3-none-any.whl (1.4 kB)\n",
            "Building wheels for collected packages: chess\n",
            "  Building wheel for chess (setup.py) ... \u001b[?25l\u001b[?25hdone\n",
            "  Created wheel for chess: filename=chess-1.11.2-py3-none-any.whl size=147775 sha256=ddceed2079b62749ccb51e6cb4a4e6372a62ece468f99221e3950dc2b5baec49\n",
            "  Stored in directory: /root/.cache/pip/wheels/83/1f/4e/8f4300f7dd554eb8de70ddfed96e94d3d030ace10c5b53d447\n",
            "Successfully built chess\n",
            "Installing collected packages: chess, python-chess\n",
            "Successfully installed chess-1.11.2 python-chess-1.999\n"
          ]
        }
      ]
    },
    {
      "cell_type": "code",
      "execution_count": null,
      "metadata": {
        "id": "3nqmYftUwGQW"
      },
      "outputs": [],
      "source": [
        "import chess.pgn\n",
        "import chess\n",
        "import io"
      ]
    },
    {
      "cell_type": "code",
      "source": [
        "# Cargar la partida desde un string PGN\n",
        "pgn_text = \"\"\"\n",
        "[Event \"Rated Bullet game\"]\n",
        "[Site \"https://lichess.org/1xb3os63\"]\n",
        "[White \"nichiren1967\"]\n",
        "[Black \"Naitero_Nagasaki\"]\n",
        "[Result \"0-1\"]\n",
        "[ECO \"C00\"]\n",
        "[Opening \"French Defense: La Bourdonnais Variation\"]\n",
        "[TimeControl \"60+1\"]\n",
        "[Termination \"Normal\"]\n",
        "\n",
        "1. e4 e6 2. f4 d5 3. e5 c5 4. Nf3 Qb6 5. c3 Nc6 6. d3 Bd7 7. Be2 Nh6 8. O-O Nf5 9. g4 Nh6 10. Kg2 Nxg4 11. h3 Nh6 12. Ng5 Nf5 13. Bg4 Nce7 14. Nd2 Ne3+ 15. Kf3 Nxd1 16. Rxd1 h6 17. Nxf7 Kxf7 18. Rf1 h5 19. Bxe6+ Bxe6 20. Kg3 Nf5+ 21. Kg2 Ne3+ 22. Kf2 Nxf1 23. Kxf1 Bxh3+ 0-1\n",
        "\"\"\""
      ],
      "metadata": {
        "id": "SAz7QGq8we2_"
      },
      "execution_count": null,
      "outputs": []
    },
    {
      "cell_type": "code",
      "source": [
        "pgn = chess.pgn.read_game(io.StringIO(pgn_text))\n",
        "board = pgn.board() # Initialize the board with the starting position\n",
        "\n",
        "posiciones = []\n",
        "posiciones.append(board.fen()) # Add the starting position\n",
        "\n",
        "for i, move in enumerate(pgn.mainline_moves(), start=1):\n",
        "    board.push(move)\n",
        "    print(f\"Jugada {i}: {board.fen()}\")\n",
        "    posiciones.append(board.fen())"
      ],
      "metadata": {
        "colab": {
          "base_uri": "https://localhost:8080/"
        },
        "id": "Dm8aPsOSwigu",
        "outputId": "228fdd82-a122-44c5-b20a-29d2006d48e7"
      },
      "execution_count": null,
      "outputs": [
        {
          "output_type": "stream",
          "name": "stdout",
          "text": [
            "Jugada 1: rnbqkbnr/pppppppp/8/8/4P3/8/PPPP1PPP/RNBQKBNR b KQkq - 0 1\n",
            "Jugada 2: rnbqkbnr/pppp1ppp/4p3/8/4P3/8/PPPP1PPP/RNBQKBNR w KQkq - 0 2\n",
            "Jugada 3: rnbqkbnr/pppp1ppp/4p3/8/4PP2/8/PPPP2PP/RNBQKBNR b KQkq - 0 2\n",
            "Jugada 4: rnbqkbnr/ppp2ppp/4p3/3p4/4PP2/8/PPPP2PP/RNBQKBNR w KQkq - 0 3\n",
            "Jugada 5: rnbqkbnr/ppp2ppp/4p3/3pP3/5P2/8/PPPP2PP/RNBQKBNR b KQkq - 0 3\n",
            "Jugada 6: rnbqkbnr/pp3ppp/4p3/2ppP3/5P2/8/PPPP2PP/RNBQKBNR w KQkq - 0 4\n",
            "Jugada 7: rnbqkbnr/pp3ppp/4p3/2ppP3/5P2/5N2/PPPP2PP/RNBQKB1R b KQkq - 1 4\n",
            "Jugada 8: rnb1kbnr/pp3ppp/1q2p3/2ppP3/5P2/5N2/PPPP2PP/RNBQKB1R w KQkq - 2 5\n",
            "Jugada 9: rnb1kbnr/pp3ppp/1q2p3/2ppP3/5P2/2P2N2/PP1P2PP/RNBQKB1R b KQkq - 0 5\n",
            "Jugada 10: r1b1kbnr/pp3ppp/1qn1p3/2ppP3/5P2/2P2N2/PP1P2PP/RNBQKB1R w KQkq - 1 6\n",
            "Jugada 11: r1b1kbnr/pp3ppp/1qn1p3/2ppP3/5P2/2PP1N2/PP4PP/RNBQKB1R b KQkq - 0 6\n",
            "Jugada 12: r3kbnr/pp1b1ppp/1qn1p3/2ppP3/5P2/2PP1N2/PP4PP/RNBQKB1R w KQkq - 1 7\n",
            "Jugada 13: r3kbnr/pp1b1ppp/1qn1p3/2ppP3/5P2/2PP1N2/PP2B1PP/RNBQK2R b KQkq - 2 7\n",
            "Jugada 14: r3kb1r/pp1b1ppp/1qn1p2n/2ppP3/5P2/2PP1N2/PP2B1PP/RNBQK2R w KQkq - 3 8\n",
            "Jugada 15: r3kb1r/pp1b1ppp/1qn1p2n/2ppP3/5P2/2PP1N2/PP2B1PP/RNBQ1RK1 b kq - 4 8\n",
            "Jugada 16: r3kb1r/pp1b1ppp/1qn1p3/2ppPn2/5P2/2PP1N2/PP2B1PP/RNBQ1RK1 w kq - 5 9\n",
            "Jugada 17: r3kb1r/pp1b1ppp/1qn1p3/2ppPn2/5PP1/2PP1N2/PP2B2P/RNBQ1RK1 b kq - 0 9\n",
            "Jugada 18: r3kb1r/pp1b1ppp/1qn1p2n/2ppP3/5PP1/2PP1N2/PP2B2P/RNBQ1RK1 w kq - 1 10\n",
            "Jugada 19: r3kb1r/pp1b1ppp/1qn1p2n/2ppP3/5PP1/2PP1N2/PP2B1KP/RNBQ1R2 b kq - 2 10\n",
            "Jugada 20: r3kb1r/pp1b1ppp/1qn1p3/2ppP3/5Pn1/2PP1N2/PP2B1KP/RNBQ1R2 w kq - 0 11\n",
            "Jugada 21: r3kb1r/pp1b1ppp/1qn1p3/2ppP3/5Pn1/2PP1N1P/PP2B1K1/RNBQ1R2 b kq - 0 11\n",
            "Jugada 22: r3kb1r/pp1b1ppp/1qn1p2n/2ppP3/5P2/2PP1N1P/PP2B1K1/RNBQ1R2 w kq - 1 12\n",
            "Jugada 23: r3kb1r/pp1b1ppp/1qn1p2n/2ppP1N1/5P2/2PP3P/PP2B1K1/RNBQ1R2 b kq - 2 12\n",
            "Jugada 24: r3kb1r/pp1b1ppp/1qn1p3/2ppPnN1/5P2/2PP3P/PP2B1K1/RNBQ1R2 w kq - 3 13\n",
            "Jugada 25: r3kb1r/pp1b1ppp/1qn1p3/2ppPnN1/5PB1/2PP3P/PP4K1/RNBQ1R2 b kq - 4 13\n",
            "Jugada 26: r3kb1r/pp1bnppp/1q2p3/2ppPnN1/5PB1/2PP3P/PP4K1/RNBQ1R2 w kq - 5 14\n",
            "Jugada 27: r3kb1r/pp1bnppp/1q2p3/2ppPnN1/5PB1/2PP3P/PP1N2K1/R1BQ1R2 b kq - 6 14\n",
            "Jugada 28: r3kb1r/pp1bnppp/1q2p3/2ppP1N1/5PB1/2PPn2P/PP1N2K1/R1BQ1R2 w kq - 7 15\n",
            "Jugada 29: r3kb1r/pp1bnppp/1q2p3/2ppP1N1/5PB1/2PPnK1P/PP1N4/R1BQ1R2 b kq - 8 15\n",
            "Jugada 30: r3kb1r/pp1bnppp/1q2p3/2ppP1N1/5PB1/2PP1K1P/PP1N4/R1Bn1R2 w kq - 0 16\n",
            "Jugada 31: r3kb1r/pp1bnppp/1q2p3/2ppP1N1/5PB1/2PP1K1P/PP1N4/R1BR4 b kq - 0 16\n",
            "Jugada 32: r3kb1r/pp1bnpp1/1q2p2p/2ppP1N1/5PB1/2PP1K1P/PP1N4/R1BR4 w kq - 0 17\n",
            "Jugada 33: r3kb1r/pp1bnNp1/1q2p2p/2ppP3/5PB1/2PP1K1P/PP1N4/R1BR4 b kq - 0 17\n",
            "Jugada 34: r4b1r/pp1bnkp1/1q2p2p/2ppP3/5PB1/2PP1K1P/PP1N4/R1BR4 w - - 0 18\n",
            "Jugada 35: r4b1r/pp1bnkp1/1q2p2p/2ppP3/5PB1/2PP1K1P/PP1N4/R1B2R2 b - - 1 18\n",
            "Jugada 36: r4b1r/pp1bnkp1/1q2p3/2ppP2p/5PB1/2PP1K1P/PP1N4/R1B2R2 w - - 0 19\n",
            "Jugada 37: r4b1r/pp1bnkp1/1q2B3/2ppP2p/5P2/2PP1K1P/PP1N4/R1B2R2 b - - 0 19\n",
            "Jugada 38: r4b1r/pp2nkp1/1q2b3/2ppP2p/5P2/2PP1K1P/PP1N4/R1B2R2 w - - 0 20\n",
            "Jugada 39: r4b1r/pp2nkp1/1q2b3/2ppP2p/5P2/2PP2KP/PP1N4/R1B2R2 b - - 1 20\n",
            "Jugada 40: r4b1r/pp3kp1/1q2b3/2ppPn1p/5P2/2PP2KP/PP1N4/R1B2R2 w - - 2 21\n",
            "Jugada 41: r4b1r/pp3kp1/1q2b3/2ppPn1p/5P2/2PP3P/PP1N2K1/R1B2R2 b - - 3 21\n",
            "Jugada 42: r4b1r/pp3kp1/1q2b3/2ppP2p/5P2/2PPn2P/PP1N2K1/R1B2R2 w - - 4 22\n",
            "Jugada 43: r4b1r/pp3kp1/1q2b3/2ppP2p/5P2/2PPn2P/PP1N1K2/R1B2R2 b - - 5 22\n",
            "Jugada 44: r4b1r/pp3kp1/1q2b3/2ppP2p/5P2/2PP3P/PP1N1K2/R1B2n2 w - - 0 23\n",
            "Jugada 45: r4b1r/pp3kp1/1q2b3/2ppP2p/5P2/2PP3P/PP1N4/R1B2K2 b - - 0 23\n",
            "Jugada 46: r4b1r/pp3kp1/1q6/2ppP2p/5P2/2PP3b/PP1N4/R1B2K2 w - - 0 24\n"
          ]
        }
      ]
    },
    {
      "cell_type": "code",
      "source": [
        "print(posiciones)"
      ],
      "metadata": {
        "colab": {
          "base_uri": "https://localhost:8080/"
        },
        "id": "PXxwPE21zXtL",
        "outputId": "7f96806d-e60a-4d15-ed18-2a7a2eea244b"
      },
      "execution_count": null,
      "outputs": [
        {
          "output_type": "stream",
          "name": "stdout",
          "text": [
            "['rnbqkbnr/pppppppp/8/8/8/8/PPPPPPPP/RNBQKBNR w KQkq - 0 1', 'rnbqkbnr/pppppppp/8/8/4P3/8/PPPP1PPP/RNBQKBNR b KQkq - 0 1', 'rnbqkbnr/pppp1ppp/4p3/8/4P3/8/PPPP1PPP/RNBQKBNR w KQkq - 0 2', 'rnbqkbnr/pppp1ppp/4p3/8/4PP2/8/PPPP2PP/RNBQKBNR b KQkq - 0 2', 'rnbqkbnr/ppp2ppp/4p3/3p4/4PP2/8/PPPP2PP/RNBQKBNR w KQkq - 0 3', 'rnbqkbnr/ppp2ppp/4p3/3pP3/5P2/8/PPPP2PP/RNBQKBNR b KQkq - 0 3', 'rnbqkbnr/pp3ppp/4p3/2ppP3/5P2/8/PPPP2PP/RNBQKBNR w KQkq - 0 4', 'rnbqkbnr/pp3ppp/4p3/2ppP3/5P2/5N2/PPPP2PP/RNBQKB1R b KQkq - 1 4', 'rnb1kbnr/pp3ppp/1q2p3/2ppP3/5P2/5N2/PPPP2PP/RNBQKB1R w KQkq - 2 5', 'rnb1kbnr/pp3ppp/1q2p3/2ppP3/5P2/2P2N2/PP1P2PP/RNBQKB1R b KQkq - 0 5', 'r1b1kbnr/pp3ppp/1qn1p3/2ppP3/5P2/2P2N2/PP1P2PP/RNBQKB1R w KQkq - 1 6', 'r1b1kbnr/pp3ppp/1qn1p3/2ppP3/5P2/2PP1N2/PP4PP/RNBQKB1R b KQkq - 0 6', 'r3kbnr/pp1b1ppp/1qn1p3/2ppP3/5P2/2PP1N2/PP4PP/RNBQKB1R w KQkq - 1 7', 'r3kbnr/pp1b1ppp/1qn1p3/2ppP3/5P2/2PP1N2/PP2B1PP/RNBQK2R b KQkq - 2 7', 'r3kb1r/pp1b1ppp/1qn1p2n/2ppP3/5P2/2PP1N2/PP2B1PP/RNBQK2R w KQkq - 3 8', 'r3kb1r/pp1b1ppp/1qn1p2n/2ppP3/5P2/2PP1N2/PP2B1PP/RNBQ1RK1 b kq - 4 8', 'r3kb1r/pp1b1ppp/1qn1p3/2ppPn2/5P2/2PP1N2/PP2B1PP/RNBQ1RK1 w kq - 5 9', 'r3kb1r/pp1b1ppp/1qn1p3/2ppPn2/5PP1/2PP1N2/PP2B2P/RNBQ1RK1 b kq - 0 9', 'r3kb1r/pp1b1ppp/1qn1p2n/2ppP3/5PP1/2PP1N2/PP2B2P/RNBQ1RK1 w kq - 1 10', 'r3kb1r/pp1b1ppp/1qn1p2n/2ppP3/5PP1/2PP1N2/PP2B1KP/RNBQ1R2 b kq - 2 10', 'r3kb1r/pp1b1ppp/1qn1p3/2ppP3/5Pn1/2PP1N2/PP2B1KP/RNBQ1R2 w kq - 0 11', 'r3kb1r/pp1b1ppp/1qn1p3/2ppP3/5Pn1/2PP1N1P/PP2B1K1/RNBQ1R2 b kq - 0 11', 'r3kb1r/pp1b1ppp/1qn1p2n/2ppP3/5P2/2PP1N1P/PP2B1K1/RNBQ1R2 w kq - 1 12', 'r3kb1r/pp1b1ppp/1qn1p2n/2ppP1N1/5P2/2PP3P/PP2B1K1/RNBQ1R2 b kq - 2 12', 'r3kb1r/pp1b1ppp/1qn1p3/2ppPnN1/5P2/2PP3P/PP2B1K1/RNBQ1R2 w kq - 3 13', 'r3kb1r/pp1b1ppp/1qn1p3/2ppPnN1/5PB1/2PP3P/PP4K1/RNBQ1R2 b kq - 4 13', 'r3kb1r/pp1bnppp/1q2p3/2ppPnN1/5PB1/2PP3P/PP4K1/RNBQ1R2 w kq - 5 14', 'r3kb1r/pp1bnppp/1q2p3/2ppPnN1/5PB1/2PP3P/PP1N2K1/R1BQ1R2 b kq - 6 14', 'r3kb1r/pp1bnppp/1q2p3/2ppP1N1/5PB1/2PPn2P/PP1N2K1/R1BQ1R2 w kq - 7 15', 'r3kb1r/pp1bnppp/1q2p3/2ppP1N1/5PB1/2PPnK1P/PP1N4/R1BQ1R2 b kq - 8 15', 'r3kb1r/pp1bnppp/1q2p3/2ppP1N1/5PB1/2PP1K1P/PP1N4/R1Bn1R2 w kq - 0 16', 'r3kb1r/pp1bnppp/1q2p3/2ppP1N1/5PB1/2PP1K1P/PP1N4/R1BR4 b kq - 0 16', 'r3kb1r/pp1bnpp1/1q2p2p/2ppP1N1/5PB1/2PP1K1P/PP1N4/R1BR4 w kq - 0 17', 'r3kb1r/pp1bnNp1/1q2p2p/2ppP3/5PB1/2PP1K1P/PP1N4/R1BR4 b kq - 0 17', 'r4b1r/pp1bnkp1/1q2p2p/2ppP3/5PB1/2PP1K1P/PP1N4/R1BR4 w - - 0 18', 'r4b1r/pp1bnkp1/1q2p2p/2ppP3/5PB1/2PP1K1P/PP1N4/R1B2R2 b - - 1 18', 'r4b1r/pp1bnkp1/1q2p3/2ppP2p/5PB1/2PP1K1P/PP1N4/R1B2R2 w - - 0 19', 'r4b1r/pp1bnkp1/1q2B3/2ppP2p/5P2/2PP1K1P/PP1N4/R1B2R2 b - - 0 19', 'r4b1r/pp2nkp1/1q2b3/2ppP2p/5P2/2PP1K1P/PP1N4/R1B2R2 w - - 0 20', 'r4b1r/pp2nkp1/1q2b3/2ppP2p/5P2/2PP2KP/PP1N4/R1B2R2 b - - 1 20', 'r4b1r/pp3kp1/1q2b3/2ppPn1p/5P2/2PP2KP/PP1N4/R1B2R2 w - - 2 21', 'r4b1r/pp3kp1/1q2b3/2ppPn1p/5P2/2PP3P/PP1N2K1/R1B2R2 b - - 3 21', 'r4b1r/pp3kp1/1q2b3/2ppP2p/5P2/2PPn2P/PP1N2K1/R1B2R2 w - - 4 22', 'r4b1r/pp3kp1/1q2b3/2ppP2p/5P2/2PPn2P/PP1N1K2/R1B2R2 b - - 5 22', 'r4b1r/pp3kp1/1q2b3/2ppP2p/5P2/2PP3P/PP1N1K2/R1B2n2 w - - 0 23', 'r4b1r/pp3kp1/1q2b3/2ppP2p/5P2/2PP3P/PP1N4/R1B2K2 b - - 0 23', 'r4b1r/pp3kp1/1q6/2ppP2p/5P2/2PP3b/PP1N4/R1B2K2 w - - 0 24']\n"
          ]
        }
      ]
    },
    {
      "cell_type": "code",
      "source": [
        "print(posiciones[1])"
      ],
      "metadata": {
        "colab": {
          "base_uri": "https://localhost:8080/"
        },
        "id": "-f_PG0OZz2yy",
        "outputId": "7d176a9c-1627-463a-ec1b-559655847d7e"
      },
      "execution_count": null,
      "outputs": [
        {
          "output_type": "stream",
          "name": "stdout",
          "text": [
            "<class 'str'>\n",
            "rnbqkbnr/pppppppp/8/8/4P3/8/PPPP1PPP/RNBQKBNR b KQkq - 0 1\n"
          ]
        }
      ]
    },
    {
      "cell_type": "code",
      "source": [
        "def fen_to_tensor(fen):\n",
        "    board = chess.Board(fen)\n",
        "    piece_map = board.piece_map()\n",
        "    tensor = [0] * 64\n",
        "\n",
        "    piece_encoding = {\n",
        "        'P': 1, 'N': 2, 'B': 3, 'R': 4, 'Q': 5, 'K': 6,\n",
        "        'p': 7, 'n': 8, 'b': 9, 'r': 10, 'q': 11, 'k': 12\n",
        "    }\n",
        "\n",
        "    for square, piece in piece_map.items():\n",
        "        tensor[square] = piece_encoding[piece.symbol()]\n",
        "\n",
        "    turn = int(board.turn)  # 0 = white, 1 = black\n",
        "    castling = [\n",
        "        int(board.has_kingside_castling_rights(chess.WHITE)),\n",
        "        int(board.has_queenside_castling_rights(chess.WHITE)),\n",
        "        int(board.has_kingside_castling_rights(chess.BLACK)),\n",
        "        int(board.has_queenside_castling_rights(chess.BLACK))\n",
        "    ]\n",
        "    ep_square = board.ep_square if board.ep_square is not None else -1\n",
        "    halfmove = board.halfmove_clock\n",
        "    fullmove = board.fullmove_number\n",
        "\n",
        "    return {\n",
        "        \"board\": tensor,\n",
        "        \"turn\": turn,\n",
        "        \"castling\": castling,\n",
        "        \"ep_square\": ep_square,\n",
        "        \"halfmove\": halfmove,\n",
        "        \"fullmove\": fullmove\n",
        "    }"
      ],
      "metadata": {
        "id": "y123RV-Axdu9"
      },
      "execution_count": null,
      "outputs": []
    },
    {
      "cell_type": "code",
      "source": [
        "for fen_string in posiciones:\n",
        "    print(fen_string)"
      ],
      "metadata": {
        "colab": {
          "base_uri": "https://localhost:8080/"
        },
        "id": "m3In3yBn5Nzn",
        "outputId": "a574fd1d-6748-4573-c378-69e9ad30567d"
      },
      "execution_count": null,
      "outputs": [
        {
          "output_type": "stream",
          "name": "stdout",
          "text": [
            "rnbqkbnr/pppppppp/8/8/8/8/PPPPPPPP/RNBQKBNR w KQkq - 0 1\n",
            "rnbqkbnr/pppppppp/8/8/4P3/8/PPPP1PPP/RNBQKBNR b KQkq - 0 1\n",
            "rnbqkbnr/pppp1ppp/4p3/8/4P3/8/PPPP1PPP/RNBQKBNR w KQkq - 0 2\n",
            "rnbqkbnr/pppp1ppp/4p3/8/4PP2/8/PPPP2PP/RNBQKBNR b KQkq - 0 2\n",
            "rnbqkbnr/ppp2ppp/4p3/3p4/4PP2/8/PPPP2PP/RNBQKBNR w KQkq - 0 3\n",
            "rnbqkbnr/ppp2ppp/4p3/3pP3/5P2/8/PPPP2PP/RNBQKBNR b KQkq - 0 3\n",
            "rnbqkbnr/pp3ppp/4p3/2ppP3/5P2/8/PPPP2PP/RNBQKBNR w KQkq - 0 4\n",
            "rnbqkbnr/pp3ppp/4p3/2ppP3/5P2/5N2/PPPP2PP/RNBQKB1R b KQkq - 1 4\n",
            "rnb1kbnr/pp3ppp/1q2p3/2ppP3/5P2/5N2/PPPP2PP/RNBQKB1R w KQkq - 2 5\n",
            "rnb1kbnr/pp3ppp/1q2p3/2ppP3/5P2/2P2N2/PP1P2PP/RNBQKB1R b KQkq - 0 5\n",
            "r1b1kbnr/pp3ppp/1qn1p3/2ppP3/5P2/2P2N2/PP1P2PP/RNBQKB1R w KQkq - 1 6\n",
            "r1b1kbnr/pp3ppp/1qn1p3/2ppP3/5P2/2PP1N2/PP4PP/RNBQKB1R b KQkq - 0 6\n",
            "r3kbnr/pp1b1ppp/1qn1p3/2ppP3/5P2/2PP1N2/PP4PP/RNBQKB1R w KQkq - 1 7\n",
            "r3kbnr/pp1b1ppp/1qn1p3/2ppP3/5P2/2PP1N2/PP2B1PP/RNBQK2R b KQkq - 2 7\n",
            "r3kb1r/pp1b1ppp/1qn1p2n/2ppP3/5P2/2PP1N2/PP2B1PP/RNBQK2R w KQkq - 3 8\n",
            "r3kb1r/pp1b1ppp/1qn1p2n/2ppP3/5P2/2PP1N2/PP2B1PP/RNBQ1RK1 b kq - 4 8\n",
            "r3kb1r/pp1b1ppp/1qn1p3/2ppPn2/5P2/2PP1N2/PP2B1PP/RNBQ1RK1 w kq - 5 9\n",
            "r3kb1r/pp1b1ppp/1qn1p3/2ppPn2/5PP1/2PP1N2/PP2B2P/RNBQ1RK1 b kq - 0 9\n",
            "r3kb1r/pp1b1ppp/1qn1p2n/2ppP3/5PP1/2PP1N2/PP2B2P/RNBQ1RK1 w kq - 1 10\n",
            "r3kb1r/pp1b1ppp/1qn1p2n/2ppP3/5PP1/2PP1N2/PP2B1KP/RNBQ1R2 b kq - 2 10\n",
            "r3kb1r/pp1b1ppp/1qn1p3/2ppP3/5Pn1/2PP1N2/PP2B1KP/RNBQ1R2 w kq - 0 11\n",
            "r3kb1r/pp1b1ppp/1qn1p3/2ppP3/5Pn1/2PP1N1P/PP2B1K1/RNBQ1R2 b kq - 0 11\n",
            "r3kb1r/pp1b1ppp/1qn1p2n/2ppP3/5P2/2PP1N1P/PP2B1K1/RNBQ1R2 w kq - 1 12\n",
            "r3kb1r/pp1b1ppp/1qn1p2n/2ppP1N1/5P2/2PP3P/PP2B1K1/RNBQ1R2 b kq - 2 12\n",
            "r3kb1r/pp1b1ppp/1qn1p3/2ppPnN1/5P2/2PP3P/PP2B1K1/RNBQ1R2 w kq - 3 13\n",
            "r3kb1r/pp1b1ppp/1qn1p3/2ppPnN1/5PB1/2PP3P/PP4K1/RNBQ1R2 b kq - 4 13\n",
            "r3kb1r/pp1bnppp/1q2p3/2ppPnN1/5PB1/2PP3P/PP4K1/RNBQ1R2 w kq - 5 14\n",
            "r3kb1r/pp1bnppp/1q2p3/2ppPnN1/5PB1/2PP3P/PP1N2K1/R1BQ1R2 b kq - 6 14\n",
            "r3kb1r/pp1bnppp/1q2p3/2ppP1N1/5PB1/2PPn2P/PP1N2K1/R1BQ1R2 w kq - 7 15\n",
            "r3kb1r/pp1bnppp/1q2p3/2ppP1N1/5PB1/2PPnK1P/PP1N4/R1BQ1R2 b kq - 8 15\n",
            "r3kb1r/pp1bnppp/1q2p3/2ppP1N1/5PB1/2PP1K1P/PP1N4/R1Bn1R2 w kq - 0 16\n",
            "r3kb1r/pp1bnppp/1q2p3/2ppP1N1/5PB1/2PP1K1P/PP1N4/R1BR4 b kq - 0 16\n",
            "r3kb1r/pp1bnpp1/1q2p2p/2ppP1N1/5PB1/2PP1K1P/PP1N4/R1BR4 w kq - 0 17\n",
            "r3kb1r/pp1bnNp1/1q2p2p/2ppP3/5PB1/2PP1K1P/PP1N4/R1BR4 b kq - 0 17\n",
            "r4b1r/pp1bnkp1/1q2p2p/2ppP3/5PB1/2PP1K1P/PP1N4/R1BR4 w - - 0 18\n",
            "r4b1r/pp1bnkp1/1q2p2p/2ppP3/5PB1/2PP1K1P/PP1N4/R1B2R2 b - - 1 18\n",
            "r4b1r/pp1bnkp1/1q2p3/2ppP2p/5PB1/2PP1K1P/PP1N4/R1B2R2 w - - 0 19\n",
            "r4b1r/pp1bnkp1/1q2B3/2ppP2p/5P2/2PP1K1P/PP1N4/R1B2R2 b - - 0 19\n",
            "r4b1r/pp2nkp1/1q2b3/2ppP2p/5P2/2PP1K1P/PP1N4/R1B2R2 w - - 0 20\n",
            "r4b1r/pp2nkp1/1q2b3/2ppP2p/5P2/2PP2KP/PP1N4/R1B2R2 b - - 1 20\n",
            "r4b1r/pp3kp1/1q2b3/2ppPn1p/5P2/2PP2KP/PP1N4/R1B2R2 w - - 2 21\n",
            "r4b1r/pp3kp1/1q2b3/2ppPn1p/5P2/2PP3P/PP1N2K1/R1B2R2 b - - 3 21\n",
            "r4b1r/pp3kp1/1q2b3/2ppP2p/5P2/2PPn2P/PP1N2K1/R1B2R2 w - - 4 22\n",
            "r4b1r/pp3kp1/1q2b3/2ppP2p/5P2/2PPn2P/PP1N1K2/R1B2R2 b - - 5 22\n",
            "r4b1r/pp3kp1/1q2b3/2ppP2p/5P2/2PP3P/PP1N1K2/R1B2n2 w - - 0 23\n",
            "r4b1r/pp3kp1/1q2b3/2ppP2p/5P2/2PP3P/PP1N4/R1B2K2 b - - 0 23\n",
            "r4b1r/pp3kp1/1q6/2ppP2p/5P2/2PP3b/PP1N4/R1B2K2 w - - 0 24\n"
          ]
        }
      ]
    },
    {
      "cell_type": "code",
      "source": [
        "for i, fen in enumerate(posiciones):\n",
        "    print(fen)\n"
      ],
      "metadata": {
        "colab": {
          "base_uri": "https://localhost:8080/"
        },
        "id": "m3hvxAOY3hpD",
        "outputId": "6cd6757a-a793-4037-94f9-9158e1a13192"
      },
      "execution_count": null,
      "outputs": [
        {
          "output_type": "stream",
          "name": "stdout",
          "text": [
            "<bound method Board.fen of Board('r4b1r/pp3kp1/1q6/2ppP2p/5P2/2PP3b/PP1N4/R1B2K2 w - - 0 24')>\n",
            "<bound method Board.fen of Board('r4b1r/pp3kp1/1q6/2ppP2p/5P2/2PP3b/PP1N4/R1B2K2 w - - 0 24')>\n",
            "<bound method Board.fen of Board('r4b1r/pp3kp1/1q6/2ppP2p/5P2/2PP3b/PP1N4/R1B2K2 w - - 0 24')>\n",
            "<bound method Board.fen of Board('r4b1r/pp3kp1/1q6/2ppP2p/5P2/2PP3b/PP1N4/R1B2K2 w - - 0 24')>\n",
            "<bound method Board.fen of Board('r4b1r/pp3kp1/1q6/2ppP2p/5P2/2PP3b/PP1N4/R1B2K2 w - - 0 24')>\n",
            "<bound method Board.fen of Board('r4b1r/pp3kp1/1q6/2ppP2p/5P2/2PP3b/PP1N4/R1B2K2 w - - 0 24')>\n",
            "<bound method Board.fen of Board('r4b1r/pp3kp1/1q6/2ppP2p/5P2/2PP3b/PP1N4/R1B2K2 w - - 0 24')>\n",
            "<bound method Board.fen of Board('r4b1r/pp3kp1/1q6/2ppP2p/5P2/2PP3b/PP1N4/R1B2K2 w - - 0 24')>\n",
            "<bound method Board.fen of Board('r4b1r/pp3kp1/1q6/2ppP2p/5P2/2PP3b/PP1N4/R1B2K2 w - - 0 24')>\n",
            "<bound method Board.fen of Board('r4b1r/pp3kp1/1q6/2ppP2p/5P2/2PP3b/PP1N4/R1B2K2 w - - 0 24')>\n",
            "<bound method Board.fen of Board('r4b1r/pp3kp1/1q6/2ppP2p/5P2/2PP3b/PP1N4/R1B2K2 w - - 0 24')>\n",
            "<bound method Board.fen of Board('r4b1r/pp3kp1/1q6/2ppP2p/5P2/2PP3b/PP1N4/R1B2K2 w - - 0 24')>\n",
            "<bound method Board.fen of Board('r4b1r/pp3kp1/1q6/2ppP2p/5P2/2PP3b/PP1N4/R1B2K2 w - - 0 24')>\n",
            "<bound method Board.fen of Board('r4b1r/pp3kp1/1q6/2ppP2p/5P2/2PP3b/PP1N4/R1B2K2 w - - 0 24')>\n",
            "<bound method Board.fen of Board('r4b1r/pp3kp1/1q6/2ppP2p/5P2/2PP3b/PP1N4/R1B2K2 w - - 0 24')>\n",
            "<bound method Board.fen of Board('r4b1r/pp3kp1/1q6/2ppP2p/5P2/2PP3b/PP1N4/R1B2K2 w - - 0 24')>\n",
            "<bound method Board.fen of Board('r4b1r/pp3kp1/1q6/2ppP2p/5P2/2PP3b/PP1N4/R1B2K2 w - - 0 24')>\n",
            "<bound method Board.fen of Board('r4b1r/pp3kp1/1q6/2ppP2p/5P2/2PP3b/PP1N4/R1B2K2 w - - 0 24')>\n",
            "<bound method Board.fen of Board('r4b1r/pp3kp1/1q6/2ppP2p/5P2/2PP3b/PP1N4/R1B2K2 w - - 0 24')>\n",
            "<bound method Board.fen of Board('r4b1r/pp3kp1/1q6/2ppP2p/5P2/2PP3b/PP1N4/R1B2K2 w - - 0 24')>\n",
            "<bound method Board.fen of Board('r4b1r/pp3kp1/1q6/2ppP2p/5P2/2PP3b/PP1N4/R1B2K2 w - - 0 24')>\n",
            "<bound method Board.fen of Board('r4b1r/pp3kp1/1q6/2ppP2p/5P2/2PP3b/PP1N4/R1B2K2 w - - 0 24')>\n",
            "<bound method Board.fen of Board('r4b1r/pp3kp1/1q6/2ppP2p/5P2/2PP3b/PP1N4/R1B2K2 w - - 0 24')>\n",
            "<bound method Board.fen of Board('r4b1r/pp3kp1/1q6/2ppP2p/5P2/2PP3b/PP1N4/R1B2K2 w - - 0 24')>\n",
            "<bound method Board.fen of Board('r4b1r/pp3kp1/1q6/2ppP2p/5P2/2PP3b/PP1N4/R1B2K2 w - - 0 24')>\n",
            "<bound method Board.fen of Board('r4b1r/pp3kp1/1q6/2ppP2p/5P2/2PP3b/PP1N4/R1B2K2 w - - 0 24')>\n",
            "<bound method Board.fen of Board('r4b1r/pp3kp1/1q6/2ppP2p/5P2/2PP3b/PP1N4/R1B2K2 w - - 0 24')>\n",
            "<bound method Board.fen of Board('r4b1r/pp3kp1/1q6/2ppP2p/5P2/2PP3b/PP1N4/R1B2K2 w - - 0 24')>\n",
            "<bound method Board.fen of Board('r4b1r/pp3kp1/1q6/2ppP2p/5P2/2PP3b/PP1N4/R1B2K2 w - - 0 24')>\n",
            "<bound method Board.fen of Board('r4b1r/pp3kp1/1q6/2ppP2p/5P2/2PP3b/PP1N4/R1B2K2 w - - 0 24')>\n",
            "<bound method Board.fen of Board('r4b1r/pp3kp1/1q6/2ppP2p/5P2/2PP3b/PP1N4/R1B2K2 w - - 0 24')>\n",
            "<bound method Board.fen of Board('r4b1r/pp3kp1/1q6/2ppP2p/5P2/2PP3b/PP1N4/R1B2K2 w - - 0 24')>\n",
            "<bound method Board.fen of Board('r4b1r/pp3kp1/1q6/2ppP2p/5P2/2PP3b/PP1N4/R1B2K2 w - - 0 24')>\n",
            "<bound method Board.fen of Board('r4b1r/pp3kp1/1q6/2ppP2p/5P2/2PP3b/PP1N4/R1B2K2 w - - 0 24')>\n",
            "<bound method Board.fen of Board('r4b1r/pp3kp1/1q6/2ppP2p/5P2/2PP3b/PP1N4/R1B2K2 w - - 0 24')>\n",
            "<bound method Board.fen of Board('r4b1r/pp3kp1/1q6/2ppP2p/5P2/2PP3b/PP1N4/R1B2K2 w - - 0 24')>\n",
            "<bound method Board.fen of Board('r4b1r/pp3kp1/1q6/2ppP2p/5P2/2PP3b/PP1N4/R1B2K2 w - - 0 24')>\n",
            "<bound method Board.fen of Board('r4b1r/pp3kp1/1q6/2ppP2p/5P2/2PP3b/PP1N4/R1B2K2 w - - 0 24')>\n",
            "<bound method Board.fen of Board('r4b1r/pp3kp1/1q6/2ppP2p/5P2/2PP3b/PP1N4/R1B2K2 w - - 0 24')>\n",
            "<bound method Board.fen of Board('r4b1r/pp3kp1/1q6/2ppP2p/5P2/2PP3b/PP1N4/R1B2K2 w - - 0 24')>\n",
            "<bound method Board.fen of Board('r4b1r/pp3kp1/1q6/2ppP2p/5P2/2PP3b/PP1N4/R1B2K2 w - - 0 24')>\n",
            "<bound method Board.fen of Board('r4b1r/pp3kp1/1q6/2ppP2p/5P2/2PP3b/PP1N4/R1B2K2 w - - 0 24')>\n",
            "<bound method Board.fen of Board('r4b1r/pp3kp1/1q6/2ppP2p/5P2/2PP3b/PP1N4/R1B2K2 w - - 0 24')>\n",
            "<bound method Board.fen of Board('r4b1r/pp3kp1/1q6/2ppP2p/5P2/2PP3b/PP1N4/R1B2K2 w - - 0 24')>\n",
            "<bound method Board.fen of Board('r4b1r/pp3kp1/1q6/2ppP2p/5P2/2PP3b/PP1N4/R1B2K2 w - - 0 24')>\n",
            "<bound method Board.fen of Board('r4b1r/pp3kp1/1q6/2ppP2p/5P2/2PP3b/PP1N4/R1B2K2 w - - 0 24')>\n"
          ]
        }
      ]
    },
    {
      "cell_type": "code",
      "source": [
        "for i, _ in enumerate(posiciones):\n",
        "    print(fen_to_tensor(posiciones[i]))\n"
      ],
      "metadata": {
        "colab": {
          "base_uri": "https://localhost:8080/"
        },
        "id": "oSaiS8v31iX9",
        "outputId": "a9fa41ae-baea-4a13-9fe7-4177d9477431"
      },
      "execution_count": null,
      "outputs": [
        {
          "output_type": "stream",
          "name": "stdout",
          "text": [
            "{'board': [4, 2, 3, 5, 6, 3, 2, 4, 1, 1, 1, 1, 1, 1, 1, 1, 0, 0, 0, 0, 0, 0, 0, 0, 0, 0, 0, 0, 0, 0, 0, 0, 0, 0, 0, 0, 0, 0, 0, 0, 0, 0, 0, 0, 0, 0, 0, 0, 7, 7, 7, 7, 7, 7, 7, 7, 10, 8, 9, 11, 12, 9, 8, 10], 'turn': 1, 'castling': [1, 1, 1, 1], 'ep_square': -1, 'halfmove': 0, 'fullmove': 1}\n",
            "{'board': [4, 2, 3, 5, 6, 3, 2, 4, 1, 1, 1, 1, 0, 1, 1, 1, 0, 0, 0, 0, 0, 0, 0, 0, 0, 0, 0, 0, 1, 0, 0, 0, 0, 0, 0, 0, 0, 0, 0, 0, 0, 0, 0, 0, 0, 0, 0, 0, 7, 7, 7, 7, 7, 7, 7, 7, 10, 8, 9, 11, 12, 9, 8, 10], 'turn': 0, 'castling': [1, 1, 1, 1], 'ep_square': -1, 'halfmove': 0, 'fullmove': 1}\n",
            "{'board': [4, 2, 3, 5, 6, 3, 2, 4, 1, 1, 1, 1, 0, 1, 1, 1, 0, 0, 0, 0, 0, 0, 0, 0, 0, 0, 0, 0, 1, 0, 0, 0, 0, 0, 0, 0, 0, 0, 0, 0, 0, 0, 0, 0, 7, 0, 0, 0, 7, 7, 7, 7, 0, 7, 7, 7, 10, 8, 9, 11, 12, 9, 8, 10], 'turn': 1, 'castling': [1, 1, 1, 1], 'ep_square': -1, 'halfmove': 0, 'fullmove': 2}\n",
            "{'board': [4, 2, 3, 5, 6, 3, 2, 4, 1, 1, 1, 1, 0, 0, 1, 1, 0, 0, 0, 0, 0, 0, 0, 0, 0, 0, 0, 0, 1, 1, 0, 0, 0, 0, 0, 0, 0, 0, 0, 0, 0, 0, 0, 0, 7, 0, 0, 0, 7, 7, 7, 7, 0, 7, 7, 7, 10, 8, 9, 11, 12, 9, 8, 10], 'turn': 0, 'castling': [1, 1, 1, 1], 'ep_square': -1, 'halfmove': 0, 'fullmove': 2}\n",
            "{'board': [4, 2, 3, 5, 6, 3, 2, 4, 1, 1, 1, 1, 0, 0, 1, 1, 0, 0, 0, 0, 0, 0, 0, 0, 0, 0, 0, 0, 1, 1, 0, 0, 0, 0, 0, 7, 0, 0, 0, 0, 0, 0, 0, 0, 7, 0, 0, 0, 7, 7, 7, 0, 0, 7, 7, 7, 10, 8, 9, 11, 12, 9, 8, 10], 'turn': 1, 'castling': [1, 1, 1, 1], 'ep_square': -1, 'halfmove': 0, 'fullmove': 3}\n",
            "{'board': [4, 2, 3, 5, 6, 3, 2, 4, 1, 1, 1, 1, 0, 0, 1, 1, 0, 0, 0, 0, 0, 0, 0, 0, 0, 0, 0, 0, 0, 1, 0, 0, 0, 0, 0, 7, 1, 0, 0, 0, 0, 0, 0, 0, 7, 0, 0, 0, 7, 7, 7, 0, 0, 7, 7, 7, 10, 8, 9, 11, 12, 9, 8, 10], 'turn': 0, 'castling': [1, 1, 1, 1], 'ep_square': -1, 'halfmove': 0, 'fullmove': 3}\n",
            "{'board': [4, 2, 3, 5, 6, 3, 2, 4, 1, 1, 1, 1, 0, 0, 1, 1, 0, 0, 0, 0, 0, 0, 0, 0, 0, 0, 0, 0, 0, 1, 0, 0, 0, 0, 7, 7, 1, 0, 0, 0, 0, 0, 0, 0, 7, 0, 0, 0, 7, 7, 0, 0, 0, 7, 7, 7, 10, 8, 9, 11, 12, 9, 8, 10], 'turn': 1, 'castling': [1, 1, 1, 1], 'ep_square': -1, 'halfmove': 0, 'fullmove': 4}\n",
            "{'board': [4, 2, 3, 5, 6, 3, 0, 4, 1, 1, 1, 1, 0, 0, 1, 1, 0, 0, 0, 0, 0, 2, 0, 0, 0, 0, 0, 0, 0, 1, 0, 0, 0, 0, 7, 7, 1, 0, 0, 0, 0, 0, 0, 0, 7, 0, 0, 0, 7, 7, 0, 0, 0, 7, 7, 7, 10, 8, 9, 11, 12, 9, 8, 10], 'turn': 0, 'castling': [1, 1, 1, 1], 'ep_square': -1, 'halfmove': 1, 'fullmove': 4}\n",
            "{'board': [4, 2, 3, 5, 6, 3, 0, 4, 1, 1, 1, 1, 0, 0, 1, 1, 0, 0, 0, 0, 0, 2, 0, 0, 0, 0, 0, 0, 0, 1, 0, 0, 0, 0, 7, 7, 1, 0, 0, 0, 0, 11, 0, 0, 7, 0, 0, 0, 7, 7, 0, 0, 0, 7, 7, 7, 10, 8, 9, 0, 12, 9, 8, 10], 'turn': 1, 'castling': [1, 1, 1, 1], 'ep_square': -1, 'halfmove': 2, 'fullmove': 5}\n",
            "{'board': [4, 2, 3, 5, 6, 3, 0, 4, 1, 1, 0, 1, 0, 0, 1, 1, 0, 0, 1, 0, 0, 2, 0, 0, 0, 0, 0, 0, 0, 1, 0, 0, 0, 0, 7, 7, 1, 0, 0, 0, 0, 11, 0, 0, 7, 0, 0, 0, 7, 7, 0, 0, 0, 7, 7, 7, 10, 8, 9, 0, 12, 9, 8, 10], 'turn': 0, 'castling': [1, 1, 1, 1], 'ep_square': -1, 'halfmove': 0, 'fullmove': 5}\n",
            "{'board': [4, 2, 3, 5, 6, 3, 0, 4, 1, 1, 0, 1, 0, 0, 1, 1, 0, 0, 1, 0, 0, 2, 0, 0, 0, 0, 0, 0, 0, 1, 0, 0, 0, 0, 7, 7, 1, 0, 0, 0, 0, 11, 8, 0, 7, 0, 0, 0, 7, 7, 0, 0, 0, 7, 7, 7, 10, 0, 9, 0, 12, 9, 8, 10], 'turn': 1, 'castling': [1, 1, 1, 1], 'ep_square': -1, 'halfmove': 1, 'fullmove': 6}\n",
            "{'board': [4, 2, 3, 5, 6, 3, 0, 4, 1, 1, 0, 0, 0, 0, 1, 1, 0, 0, 1, 1, 0, 2, 0, 0, 0, 0, 0, 0, 0, 1, 0, 0, 0, 0, 7, 7, 1, 0, 0, 0, 0, 11, 8, 0, 7, 0, 0, 0, 7, 7, 0, 0, 0, 7, 7, 7, 10, 0, 9, 0, 12, 9, 8, 10], 'turn': 0, 'castling': [1, 1, 1, 1], 'ep_square': -1, 'halfmove': 0, 'fullmove': 6}\n",
            "{'board': [4, 2, 3, 5, 6, 3, 0, 4, 1, 1, 0, 0, 0, 0, 1, 1, 0, 0, 1, 1, 0, 2, 0, 0, 0, 0, 0, 0, 0, 1, 0, 0, 0, 0, 7, 7, 1, 0, 0, 0, 0, 11, 8, 0, 7, 0, 0, 0, 7, 7, 0, 9, 0, 7, 7, 7, 10, 0, 0, 0, 12, 9, 8, 10], 'turn': 1, 'castling': [1, 1, 1, 1], 'ep_square': -1, 'halfmove': 1, 'fullmove': 7}\n",
            "{'board': [4, 2, 3, 5, 6, 0, 0, 4, 1, 1, 0, 0, 3, 0, 1, 1, 0, 0, 1, 1, 0, 2, 0, 0, 0, 0, 0, 0, 0, 1, 0, 0, 0, 0, 7, 7, 1, 0, 0, 0, 0, 11, 8, 0, 7, 0, 0, 0, 7, 7, 0, 9, 0, 7, 7, 7, 10, 0, 0, 0, 12, 9, 8, 10], 'turn': 0, 'castling': [1, 1, 1, 1], 'ep_square': -1, 'halfmove': 2, 'fullmove': 7}\n",
            "{'board': [4, 2, 3, 5, 6, 0, 0, 4, 1, 1, 0, 0, 3, 0, 1, 1, 0, 0, 1, 1, 0, 2, 0, 0, 0, 0, 0, 0, 0, 1, 0, 0, 0, 0, 7, 7, 1, 0, 0, 0, 0, 11, 8, 0, 7, 0, 0, 8, 7, 7, 0, 9, 0, 7, 7, 7, 10, 0, 0, 0, 12, 9, 0, 10], 'turn': 1, 'castling': [1, 1, 1, 1], 'ep_square': -1, 'halfmove': 3, 'fullmove': 8}\n",
            "{'board': [4, 2, 3, 5, 0, 4, 6, 0, 1, 1, 0, 0, 3, 0, 1, 1, 0, 0, 1, 1, 0, 2, 0, 0, 0, 0, 0, 0, 0, 1, 0, 0, 0, 0, 7, 7, 1, 0, 0, 0, 0, 11, 8, 0, 7, 0, 0, 8, 7, 7, 0, 9, 0, 7, 7, 7, 10, 0, 0, 0, 12, 9, 0, 10], 'turn': 0, 'castling': [0, 0, 1, 1], 'ep_square': -1, 'halfmove': 4, 'fullmove': 8}\n",
            "{'board': [4, 2, 3, 5, 0, 4, 6, 0, 1, 1, 0, 0, 3, 0, 1, 1, 0, 0, 1, 1, 0, 2, 0, 0, 0, 0, 0, 0, 0, 1, 0, 0, 0, 0, 7, 7, 1, 8, 0, 0, 0, 11, 8, 0, 7, 0, 0, 0, 7, 7, 0, 9, 0, 7, 7, 7, 10, 0, 0, 0, 12, 9, 0, 10], 'turn': 1, 'castling': [0, 0, 1, 1], 'ep_square': -1, 'halfmove': 5, 'fullmove': 9}\n",
            "{'board': [4, 2, 3, 5, 0, 4, 6, 0, 1, 1, 0, 0, 3, 0, 0, 1, 0, 0, 1, 1, 0, 2, 0, 0, 0, 0, 0, 0, 0, 1, 1, 0, 0, 0, 7, 7, 1, 8, 0, 0, 0, 11, 8, 0, 7, 0, 0, 0, 7, 7, 0, 9, 0, 7, 7, 7, 10, 0, 0, 0, 12, 9, 0, 10], 'turn': 0, 'castling': [0, 0, 1, 1], 'ep_square': -1, 'halfmove': 0, 'fullmove': 9}\n",
            "{'board': [4, 2, 3, 5, 0, 4, 6, 0, 1, 1, 0, 0, 3, 0, 0, 1, 0, 0, 1, 1, 0, 2, 0, 0, 0, 0, 0, 0, 0, 1, 1, 0, 0, 0, 7, 7, 1, 0, 0, 0, 0, 11, 8, 0, 7, 0, 0, 8, 7, 7, 0, 9, 0, 7, 7, 7, 10, 0, 0, 0, 12, 9, 0, 10], 'turn': 1, 'castling': [0, 0, 1, 1], 'ep_square': -1, 'halfmove': 1, 'fullmove': 10}\n",
            "{'board': [4, 2, 3, 5, 0, 4, 0, 0, 1, 1, 0, 0, 3, 0, 6, 1, 0, 0, 1, 1, 0, 2, 0, 0, 0, 0, 0, 0, 0, 1, 1, 0, 0, 0, 7, 7, 1, 0, 0, 0, 0, 11, 8, 0, 7, 0, 0, 8, 7, 7, 0, 9, 0, 7, 7, 7, 10, 0, 0, 0, 12, 9, 0, 10], 'turn': 0, 'castling': [0, 0, 1, 1], 'ep_square': -1, 'halfmove': 2, 'fullmove': 10}\n",
            "{'board': [4, 2, 3, 5, 0, 4, 0, 0, 1, 1, 0, 0, 3, 0, 6, 1, 0, 0, 1, 1, 0, 2, 0, 0, 0, 0, 0, 0, 0, 1, 8, 0, 0, 0, 7, 7, 1, 0, 0, 0, 0, 11, 8, 0, 7, 0, 0, 0, 7, 7, 0, 9, 0, 7, 7, 7, 10, 0, 0, 0, 12, 9, 0, 10], 'turn': 1, 'castling': [0, 0, 1, 1], 'ep_square': -1, 'halfmove': 0, 'fullmove': 11}\n",
            "{'board': [4, 2, 3, 5, 0, 4, 0, 0, 1, 1, 0, 0, 3, 0, 6, 0, 0, 0, 1, 1, 0, 2, 0, 1, 0, 0, 0, 0, 0, 1, 8, 0, 0, 0, 7, 7, 1, 0, 0, 0, 0, 11, 8, 0, 7, 0, 0, 0, 7, 7, 0, 9, 0, 7, 7, 7, 10, 0, 0, 0, 12, 9, 0, 10], 'turn': 0, 'castling': [0, 0, 1, 1], 'ep_square': -1, 'halfmove': 0, 'fullmove': 11}\n",
            "{'board': [4, 2, 3, 5, 0, 4, 0, 0, 1, 1, 0, 0, 3, 0, 6, 0, 0, 0, 1, 1, 0, 2, 0, 1, 0, 0, 0, 0, 0, 1, 0, 0, 0, 0, 7, 7, 1, 0, 0, 0, 0, 11, 8, 0, 7, 0, 0, 8, 7, 7, 0, 9, 0, 7, 7, 7, 10, 0, 0, 0, 12, 9, 0, 10], 'turn': 1, 'castling': [0, 0, 1, 1], 'ep_square': -1, 'halfmove': 1, 'fullmove': 12}\n",
            "{'board': [4, 2, 3, 5, 0, 4, 0, 0, 1, 1, 0, 0, 3, 0, 6, 0, 0, 0, 1, 1, 0, 0, 0, 1, 0, 0, 0, 0, 0, 1, 0, 0, 0, 0, 7, 7, 1, 0, 2, 0, 0, 11, 8, 0, 7, 0, 0, 8, 7, 7, 0, 9, 0, 7, 7, 7, 10, 0, 0, 0, 12, 9, 0, 10], 'turn': 0, 'castling': [0, 0, 1, 1], 'ep_square': -1, 'halfmove': 2, 'fullmove': 12}\n",
            "{'board': [4, 2, 3, 5, 0, 4, 0, 0, 1, 1, 0, 0, 3, 0, 6, 0, 0, 0, 1, 1, 0, 0, 0, 1, 0, 0, 0, 0, 0, 1, 0, 0, 0, 0, 7, 7, 1, 8, 2, 0, 0, 11, 8, 0, 7, 0, 0, 0, 7, 7, 0, 9, 0, 7, 7, 7, 10, 0, 0, 0, 12, 9, 0, 10], 'turn': 1, 'castling': [0, 0, 1, 1], 'ep_square': -1, 'halfmove': 3, 'fullmove': 13}\n",
            "{'board': [4, 2, 3, 5, 0, 4, 0, 0, 1, 1, 0, 0, 0, 0, 6, 0, 0, 0, 1, 1, 0, 0, 0, 1, 0, 0, 0, 0, 0, 1, 3, 0, 0, 0, 7, 7, 1, 8, 2, 0, 0, 11, 8, 0, 7, 0, 0, 0, 7, 7, 0, 9, 0, 7, 7, 7, 10, 0, 0, 0, 12, 9, 0, 10], 'turn': 0, 'castling': [0, 0, 1, 1], 'ep_square': -1, 'halfmove': 4, 'fullmove': 13}\n",
            "{'board': [4, 2, 3, 5, 0, 4, 0, 0, 1, 1, 0, 0, 0, 0, 6, 0, 0, 0, 1, 1, 0, 0, 0, 1, 0, 0, 0, 0, 0, 1, 3, 0, 0, 0, 7, 7, 1, 8, 2, 0, 0, 11, 0, 0, 7, 0, 0, 0, 7, 7, 0, 9, 8, 7, 7, 7, 10, 0, 0, 0, 12, 9, 0, 10], 'turn': 1, 'castling': [0, 0, 1, 1], 'ep_square': -1, 'halfmove': 5, 'fullmove': 14}\n",
            "{'board': [4, 0, 3, 5, 0, 4, 0, 0, 1, 1, 0, 2, 0, 0, 6, 0, 0, 0, 1, 1, 0, 0, 0, 1, 0, 0, 0, 0, 0, 1, 3, 0, 0, 0, 7, 7, 1, 8, 2, 0, 0, 11, 0, 0, 7, 0, 0, 0, 7, 7, 0, 9, 8, 7, 7, 7, 10, 0, 0, 0, 12, 9, 0, 10], 'turn': 0, 'castling': [0, 0, 1, 1], 'ep_square': -1, 'halfmove': 6, 'fullmove': 14}\n",
            "{'board': [4, 0, 3, 5, 0, 4, 0, 0, 1, 1, 0, 2, 0, 0, 6, 0, 0, 0, 1, 1, 8, 0, 0, 1, 0, 0, 0, 0, 0, 1, 3, 0, 0, 0, 7, 7, 1, 0, 2, 0, 0, 11, 0, 0, 7, 0, 0, 0, 7, 7, 0, 9, 8, 7, 7, 7, 10, 0, 0, 0, 12, 9, 0, 10], 'turn': 1, 'castling': [0, 0, 1, 1], 'ep_square': -1, 'halfmove': 7, 'fullmove': 15}\n",
            "{'board': [4, 0, 3, 5, 0, 4, 0, 0, 1, 1, 0, 2, 0, 0, 0, 0, 0, 0, 1, 1, 8, 6, 0, 1, 0, 0, 0, 0, 0, 1, 3, 0, 0, 0, 7, 7, 1, 0, 2, 0, 0, 11, 0, 0, 7, 0, 0, 0, 7, 7, 0, 9, 8, 7, 7, 7, 10, 0, 0, 0, 12, 9, 0, 10], 'turn': 0, 'castling': [0, 0, 1, 1], 'ep_square': -1, 'halfmove': 8, 'fullmove': 15}\n",
            "{'board': [4, 0, 3, 8, 0, 4, 0, 0, 1, 1, 0, 2, 0, 0, 0, 0, 0, 0, 1, 1, 0, 6, 0, 1, 0, 0, 0, 0, 0, 1, 3, 0, 0, 0, 7, 7, 1, 0, 2, 0, 0, 11, 0, 0, 7, 0, 0, 0, 7, 7, 0, 9, 8, 7, 7, 7, 10, 0, 0, 0, 12, 9, 0, 10], 'turn': 1, 'castling': [0, 0, 1, 1], 'ep_square': -1, 'halfmove': 0, 'fullmove': 16}\n",
            "{'board': [4, 0, 3, 4, 0, 0, 0, 0, 1, 1, 0, 2, 0, 0, 0, 0, 0, 0, 1, 1, 0, 6, 0, 1, 0, 0, 0, 0, 0, 1, 3, 0, 0, 0, 7, 7, 1, 0, 2, 0, 0, 11, 0, 0, 7, 0, 0, 0, 7, 7, 0, 9, 8, 7, 7, 7, 10, 0, 0, 0, 12, 9, 0, 10], 'turn': 0, 'castling': [0, 0, 1, 1], 'ep_square': -1, 'halfmove': 0, 'fullmove': 16}\n",
            "{'board': [4, 0, 3, 4, 0, 0, 0, 0, 1, 1, 0, 2, 0, 0, 0, 0, 0, 0, 1, 1, 0, 6, 0, 1, 0, 0, 0, 0, 0, 1, 3, 0, 0, 0, 7, 7, 1, 0, 2, 0, 0, 11, 0, 0, 7, 0, 0, 7, 7, 7, 0, 9, 8, 7, 7, 0, 10, 0, 0, 0, 12, 9, 0, 10], 'turn': 1, 'castling': [0, 0, 1, 1], 'ep_square': -1, 'halfmove': 0, 'fullmove': 17}\n",
            "{'board': [4, 0, 3, 4, 0, 0, 0, 0, 1, 1, 0, 2, 0, 0, 0, 0, 0, 0, 1, 1, 0, 6, 0, 1, 0, 0, 0, 0, 0, 1, 3, 0, 0, 0, 7, 7, 1, 0, 0, 0, 0, 11, 0, 0, 7, 0, 0, 7, 7, 7, 0, 9, 8, 2, 7, 0, 10, 0, 0, 0, 12, 9, 0, 10], 'turn': 0, 'castling': [0, 0, 1, 1], 'ep_square': -1, 'halfmove': 0, 'fullmove': 17}\n",
            "{'board': [4, 0, 3, 4, 0, 0, 0, 0, 1, 1, 0, 2, 0, 0, 0, 0, 0, 0, 1, 1, 0, 6, 0, 1, 0, 0, 0, 0, 0, 1, 3, 0, 0, 0, 7, 7, 1, 0, 0, 0, 0, 11, 0, 0, 7, 0, 0, 7, 7, 7, 0, 9, 8, 12, 7, 0, 10, 0, 0, 0, 0, 9, 0, 10], 'turn': 1, 'castling': [0, 0, 0, 0], 'ep_square': -1, 'halfmove': 0, 'fullmove': 18}\n",
            "{'board': [4, 0, 3, 0, 0, 4, 0, 0, 1, 1, 0, 2, 0, 0, 0, 0, 0, 0, 1, 1, 0, 6, 0, 1, 0, 0, 0, 0, 0, 1, 3, 0, 0, 0, 7, 7, 1, 0, 0, 0, 0, 11, 0, 0, 7, 0, 0, 7, 7, 7, 0, 9, 8, 12, 7, 0, 10, 0, 0, 0, 0, 9, 0, 10], 'turn': 0, 'castling': [0, 0, 0, 0], 'ep_square': -1, 'halfmove': 1, 'fullmove': 18}\n",
            "{'board': [4, 0, 3, 0, 0, 4, 0, 0, 1, 1, 0, 2, 0, 0, 0, 0, 0, 0, 1, 1, 0, 6, 0, 1, 0, 0, 0, 0, 0, 1, 3, 0, 0, 0, 7, 7, 1, 0, 0, 7, 0, 11, 0, 0, 7, 0, 0, 0, 7, 7, 0, 9, 8, 12, 7, 0, 10, 0, 0, 0, 0, 9, 0, 10], 'turn': 1, 'castling': [0, 0, 0, 0], 'ep_square': -1, 'halfmove': 0, 'fullmove': 19}\n",
            "{'board': [4, 0, 3, 0, 0, 4, 0, 0, 1, 1, 0, 2, 0, 0, 0, 0, 0, 0, 1, 1, 0, 6, 0, 1, 0, 0, 0, 0, 0, 1, 0, 0, 0, 0, 7, 7, 1, 0, 0, 7, 0, 11, 0, 0, 3, 0, 0, 0, 7, 7, 0, 9, 8, 12, 7, 0, 10, 0, 0, 0, 0, 9, 0, 10], 'turn': 0, 'castling': [0, 0, 0, 0], 'ep_square': -1, 'halfmove': 0, 'fullmove': 19}\n",
            "{'board': [4, 0, 3, 0, 0, 4, 0, 0, 1, 1, 0, 2, 0, 0, 0, 0, 0, 0, 1, 1, 0, 6, 0, 1, 0, 0, 0, 0, 0, 1, 0, 0, 0, 0, 7, 7, 1, 0, 0, 7, 0, 11, 0, 0, 9, 0, 0, 0, 7, 7, 0, 0, 8, 12, 7, 0, 10, 0, 0, 0, 0, 9, 0, 10], 'turn': 1, 'castling': [0, 0, 0, 0], 'ep_square': -1, 'halfmove': 0, 'fullmove': 20}\n",
            "{'board': [4, 0, 3, 0, 0, 4, 0, 0, 1, 1, 0, 2, 0, 0, 0, 0, 0, 0, 1, 1, 0, 0, 6, 1, 0, 0, 0, 0, 0, 1, 0, 0, 0, 0, 7, 7, 1, 0, 0, 7, 0, 11, 0, 0, 9, 0, 0, 0, 7, 7, 0, 0, 8, 12, 7, 0, 10, 0, 0, 0, 0, 9, 0, 10], 'turn': 0, 'castling': [0, 0, 0, 0], 'ep_square': -1, 'halfmove': 1, 'fullmove': 20}\n",
            "{'board': [4, 0, 3, 0, 0, 4, 0, 0, 1, 1, 0, 2, 0, 0, 0, 0, 0, 0, 1, 1, 0, 0, 6, 1, 0, 0, 0, 0, 0, 1, 0, 0, 0, 0, 7, 7, 1, 8, 0, 7, 0, 11, 0, 0, 9, 0, 0, 0, 7, 7, 0, 0, 0, 12, 7, 0, 10, 0, 0, 0, 0, 9, 0, 10], 'turn': 1, 'castling': [0, 0, 0, 0], 'ep_square': -1, 'halfmove': 2, 'fullmove': 21}\n",
            "{'board': [4, 0, 3, 0, 0, 4, 0, 0, 1, 1, 0, 2, 0, 0, 6, 0, 0, 0, 1, 1, 0, 0, 0, 1, 0, 0, 0, 0, 0, 1, 0, 0, 0, 0, 7, 7, 1, 8, 0, 7, 0, 11, 0, 0, 9, 0, 0, 0, 7, 7, 0, 0, 0, 12, 7, 0, 10, 0, 0, 0, 0, 9, 0, 10], 'turn': 0, 'castling': [0, 0, 0, 0], 'ep_square': -1, 'halfmove': 3, 'fullmove': 21}\n",
            "{'board': [4, 0, 3, 0, 0, 4, 0, 0, 1, 1, 0, 2, 0, 0, 6, 0, 0, 0, 1, 1, 8, 0, 0, 1, 0, 0, 0, 0, 0, 1, 0, 0, 0, 0, 7, 7, 1, 0, 0, 7, 0, 11, 0, 0, 9, 0, 0, 0, 7, 7, 0, 0, 0, 12, 7, 0, 10, 0, 0, 0, 0, 9, 0, 10], 'turn': 1, 'castling': [0, 0, 0, 0], 'ep_square': -1, 'halfmove': 4, 'fullmove': 22}\n",
            "{'board': [4, 0, 3, 0, 0, 4, 0, 0, 1, 1, 0, 2, 0, 6, 0, 0, 0, 0, 1, 1, 8, 0, 0, 1, 0, 0, 0, 0, 0, 1, 0, 0, 0, 0, 7, 7, 1, 0, 0, 7, 0, 11, 0, 0, 9, 0, 0, 0, 7, 7, 0, 0, 0, 12, 7, 0, 10, 0, 0, 0, 0, 9, 0, 10], 'turn': 0, 'castling': [0, 0, 0, 0], 'ep_square': -1, 'halfmove': 5, 'fullmove': 22}\n",
            "{'board': [4, 0, 3, 0, 0, 8, 0, 0, 1, 1, 0, 2, 0, 6, 0, 0, 0, 0, 1, 1, 0, 0, 0, 1, 0, 0, 0, 0, 0, 1, 0, 0, 0, 0, 7, 7, 1, 0, 0, 7, 0, 11, 0, 0, 9, 0, 0, 0, 7, 7, 0, 0, 0, 12, 7, 0, 10, 0, 0, 0, 0, 9, 0, 10], 'turn': 1, 'castling': [0, 0, 0, 0], 'ep_square': -1, 'halfmove': 0, 'fullmove': 23}\n",
            "{'board': [4, 0, 3, 0, 0, 6, 0, 0, 1, 1, 0, 2, 0, 0, 0, 0, 0, 0, 1, 1, 0, 0, 0, 1, 0, 0, 0, 0, 0, 1, 0, 0, 0, 0, 7, 7, 1, 0, 0, 7, 0, 11, 0, 0, 9, 0, 0, 0, 7, 7, 0, 0, 0, 12, 7, 0, 10, 0, 0, 0, 0, 9, 0, 10], 'turn': 0, 'castling': [0, 0, 0, 0], 'ep_square': -1, 'halfmove': 0, 'fullmove': 23}\n",
            "{'board': [4, 0, 3, 0, 0, 6, 0, 0, 1, 1, 0, 2, 0, 0, 0, 0, 0, 0, 1, 1, 0, 0, 0, 9, 0, 0, 0, 0, 0, 1, 0, 0, 0, 0, 7, 7, 1, 0, 0, 7, 0, 11, 0, 0, 0, 0, 0, 0, 7, 7, 0, 0, 0, 12, 7, 0, 10, 0, 0, 0, 0, 9, 0, 10], 'turn': 1, 'castling': [0, 0, 0, 0], 'ep_square': -1, 'halfmove': 0, 'fullmove': 24}\n"
          ]
        }
      ]
    },
    {
      "cell_type": "code",
      "source": [
        "print(enumerate(posiciones))"
      ],
      "metadata": {
        "colab": {
          "base_uri": "https://localhost:8080/"
        },
        "id": "nRe2C6yk10u1",
        "outputId": "fe25db24-080d-48a7-ea25-cbec2b7a9079"
      },
      "execution_count": null,
      "outputs": [
        {
          "output_type": "stream",
          "name": "stdout",
          "text": [
            "<enumerate object at 0x7f10065cfdd0>\n"
          ]
        }
      ]
    },
    {
      "cell_type": "code",
      "metadata": {
        "colab": {
          "base_uri": "https://localhost:8080/"
        },
        "id": "791cc816",
        "outputId": "9e1d3a04-9600-4565-ef7b-26d045778bee"
      },
      "source": [
        "# Assuming 'pgn' object is already loaded from the pgn_text\n",
        "eco_code = pgn.headers[\"ECO\"]\n",
        "print(eco_code)"
      ],
      "execution_count": null,
      "outputs": [
        {
          "output_type": "stream",
          "name": "stdout",
          "text": [
            "C00\n"
          ]
        }
      ]
    }
  ]
}