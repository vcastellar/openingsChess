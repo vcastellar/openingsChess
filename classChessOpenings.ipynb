{
  "nbformat": 4,
  "nbformat_minor": 0,
  "metadata": {
    "colab": {
      "provenance": [],
      "authorship_tag": "ABX9TyN0rcBBGAycNiWkFw1r6Dzk",
      "include_colab_link": true
    },
    "kernelspec": {
      "name": "python3",
      "display_name": "Python 3"
    },
    "language_info": {
      "name": "python"
    }
  },
  "cells": [
    {
      "cell_type": "markdown",
      "metadata": {
        "id": "view-in-github",
        "colab_type": "text"
      },
      "source": [
        "<a href=\"https://colab.research.google.com/github/vcastellar/openingsChess/blob/main/classChessOpenings.ipynb\" target=\"_parent\"><img src=\"https://colab.research.google.com/assets/colab-badge.svg\" alt=\"Open In Colab\"/></a>"
      ]
    },
    {
      "cell_type": "markdown",
      "source": [
        "# Clasificador de Posiciones por Aperturas Posibles\n",
        "\n",
        "Se pueden obtener partidas de los siguientes sitios:\n",
        "\n",
        "+ https://database.lichess.org/\n",
        "+ https://www.kingbase-chess.net/\n",
        "+ https://www.ficsgames.org/"
      ],
      "metadata": {
        "id": "04zqazkg6ZCD"
      }
    },
    {
      "cell_type": "code",
      "source": [
        "!pip install python-chess"
      ],
      "metadata": {
        "colab": {
          "base_uri": "https://localhost:8080/"
        },
        "id": "4vdU8hVswRrF",
        "outputId": "0432f7bb-11e8-43b5-f666-0522d2a29bac"
      },
      "execution_count": 1,
      "outputs": [
        {
          "output_type": "stream",
          "name": "stdout",
          "text": [
            "Collecting python-chess\n",
            "  Downloading python_chess-1.999-py3-none-any.whl.metadata (776 bytes)\n",
            "Collecting chess<2,>=1 (from python-chess)\n",
            "  Downloading chess-1.11.2.tar.gz (6.1 MB)\n",
            "\u001b[2K     \u001b[90m━━━━━━━━━━━━━━━━━━━━━━━━━━━━━━━━━━━━━━━━\u001b[0m \u001b[32m6.1/6.1 MB\u001b[0m \u001b[31m32.8 MB/s\u001b[0m eta \u001b[36m0:00:00\u001b[0m\n",
            "\u001b[?25h  Preparing metadata (setup.py) ... \u001b[?25l\u001b[?25hdone\n",
            "Downloading python_chess-1.999-py3-none-any.whl (1.4 kB)\n",
            "Building wheels for collected packages: chess\n",
            "  Building wheel for chess (setup.py) ... \u001b[?25l\u001b[?25hdone\n",
            "  Created wheel for chess: filename=chess-1.11.2-py3-none-any.whl size=147775 sha256=d502573c7ad7a7128538e37db605cd82534966cc380b2ed2e3d23152fc0070be\n",
            "  Stored in directory: /root/.cache/pip/wheels/83/1f/4e/8f4300f7dd554eb8de70ddfed96e94d3d030ace10c5b53d447\n",
            "Successfully built chess\n",
            "Installing collected packages: chess, python-chess\n",
            "Successfully installed chess-1.11.2 python-chess-1.999\n"
          ]
        }
      ]
    },
    {
      "cell_type": "code",
      "execution_count": 2,
      "metadata": {
        "id": "3nqmYftUwGQW"
      },
      "outputs": [],
      "source": [
        "import chess.pgn\n",
        "import chess\n",
        "import io"
      ]
    },
    {
      "cell_type": "code",
      "source": [
        "# Cargar la partida desde un string PGN\n",
        "pgn_text = \"\"\"\n",
        "[Event \"Rated Bullet game\"]\n",
        "[Site \"https://lichess.org/1xb3os63\"]\n",
        "[White \"nichiren1967\"]\n",
        "[Black \"Naitero_Nagasaki\"]\n",
        "[Result \"0-1\"]\n",
        "[ECO \"C00\"]\n",
        "[Opening \"French Defense: La Bourdonnais Variation\"]\n",
        "[TimeControl \"60+1\"]\n",
        "[Termination \"Normal\"]\n",
        "\n",
        "1. e4 e6 2. f4 d5 3. e5 c5 4. Nf3 Qb6 5. c3 Nc6 6. d3 Bd7 7. Be2 Nh6 8. O-O Nf5 9. g4 Nh6 10. Kg2 Nxg4 11. h3 Nh6 12. Ng5 Nf5 13. Bg4 Nce7 14. Nd2 Ne3+ 15. Kf3 Nxd1 16. Rxd1 h6 17. Nxf7 Kxf7 18. Rf1 h5 19. Bxe6+ Bxe6 20. Kg3 Nf5+ 21. Kg2 Ne3+ 22. Kf2 Nxf1 23. Kxf1 Bxh3+ 0-1\n",
        "\"\"\""
      ],
      "metadata": {
        "id": "SAz7QGq8we2_"
      },
      "execution_count": 4,
      "outputs": []
    },
    {
      "cell_type": "code",
      "source": [
        "dir(pgn_text)"
      ],
      "metadata": {
        "colab": {
          "base_uri": "https://localhost:8080/"
        },
        "collapsed": true,
        "id": "JA9U8jVar19m",
        "outputId": "3a233b99-653f-4553-da34-4dfc5429c513"
      },
      "execution_count": 61,
      "outputs": [
        {
          "output_type": "execute_result",
          "data": {
            "text/plain": [
              "['__add__',\n",
              " '__class__',\n",
              " '__contains__',\n",
              " '__delattr__',\n",
              " '__dir__',\n",
              " '__doc__',\n",
              " '__eq__',\n",
              " '__format__',\n",
              " '__ge__',\n",
              " '__getattribute__',\n",
              " '__getitem__',\n",
              " '__getnewargs__',\n",
              " '__getstate__',\n",
              " '__gt__',\n",
              " '__hash__',\n",
              " '__init__',\n",
              " '__init_subclass__',\n",
              " '__iter__',\n",
              " '__le__',\n",
              " '__len__',\n",
              " '__lt__',\n",
              " '__mod__',\n",
              " '__mul__',\n",
              " '__ne__',\n",
              " '__new__',\n",
              " '__reduce__',\n",
              " '__reduce_ex__',\n",
              " '__repr__',\n",
              " '__rmod__',\n",
              " '__rmul__',\n",
              " '__setattr__',\n",
              " '__sizeof__',\n",
              " '__str__',\n",
              " '__subclasshook__',\n",
              " 'capitalize',\n",
              " 'casefold',\n",
              " 'center',\n",
              " 'count',\n",
              " 'encode',\n",
              " 'endswith',\n",
              " 'expandtabs',\n",
              " 'find',\n",
              " 'format',\n",
              " 'format_map',\n",
              " 'index',\n",
              " 'isalnum',\n",
              " 'isalpha',\n",
              " 'isascii',\n",
              " 'isdecimal',\n",
              " 'isdigit',\n",
              " 'isidentifier',\n",
              " 'islower',\n",
              " 'isnumeric',\n",
              " 'isprintable',\n",
              " 'isspace',\n",
              " 'istitle',\n",
              " 'isupper',\n",
              " 'join',\n",
              " 'ljust',\n",
              " 'lower',\n",
              " 'lstrip',\n",
              " 'maketrans',\n",
              " 'partition',\n",
              " 'removeprefix',\n",
              " 'removesuffix',\n",
              " 'replace',\n",
              " 'rfind',\n",
              " 'rindex',\n",
              " 'rjust',\n",
              " 'rpartition',\n",
              " 'rsplit',\n",
              " 'rstrip',\n",
              " 'split',\n",
              " 'splitlines',\n",
              " 'startswith',\n",
              " 'strip',\n",
              " 'swapcase',\n",
              " 'title',\n",
              " 'translate',\n",
              " 'upper',\n",
              " 'zfill']"
            ]
          },
          "metadata": {},
          "execution_count": 61
        }
      ]
    },
    {
      "cell_type": "code",
      "metadata": {
        "id": "44d298c5",
        "outputId": "abfe0d39-8378-4fdf-f90e-2eca94030bb7",
        "colab": {
          "base_uri": "https://localhost:8080/"
        }
      },
      "source": [
        "opening = pgn.headers[\"Opening\"]\n",
        "print(opening)"
      ],
      "execution_count": 63,
      "outputs": [
        {
          "output_type": "stream",
          "name": "stdout",
          "text": [
            "French Defense: La Bourdonnais Variation\n"
          ]
        }
      ]
    },
    {
      "cell_type": "code",
      "source": [
        "pgn = chess.pgn.read_game(io.StringIO(pgn_text))\n",
        "board = pgn.board() # Initialize the board with the starting position\n",
        "posiciones = []\n",
        "\n",
        "for i, move in enumerate(pgn.mainline_moves(), start=0):\n",
        "    board.push(move)\n",
        "    # print(f\"Jugada {i}: {board.fen()}\")\n",
        "    posiciones.append({\n",
        "        \"idPos\":   i,\n",
        "        \"fen\":     board.fen(),\n",
        "        \"opening\": pgn.headers[\"Opening\"],\n",
        "        \"ECO\":     pgn.headers[\"ECO\"]})\n",
        "\n",
        "\n",
        "print(posiciones)"
      ],
      "metadata": {
        "colab": {
          "base_uri": "https://localhost:8080/"
        },
        "id": "z471o3KG3ngf",
        "outputId": "8cb9ca95-1ff6-4196-e09a-8ad8c5980461"
      },
      "execution_count": 111,
      "outputs": [
        {
          "output_type": "stream",
          "name": "stdout",
          "text": [
            "[{'idPos': 0, 'fen': 'rnbqkbnr/pppppppp/8/8/4P3/8/PPPP1PPP/RNBQKBNR b KQkq - 0 1', 'opening': 'French Defense: La Bourdonnais Variation', 'ECO': 'C00'}, {'idPos': 1, 'fen': 'rnbqkbnr/pppp1ppp/4p3/8/4P3/8/PPPP1PPP/RNBQKBNR w KQkq - 0 2', 'opening': 'French Defense: La Bourdonnais Variation', 'ECO': 'C00'}, {'idPos': 2, 'fen': 'rnbqkbnr/pppp1ppp/4p3/8/4PP2/8/PPPP2PP/RNBQKBNR b KQkq - 0 2', 'opening': 'French Defense: La Bourdonnais Variation', 'ECO': 'C00'}, {'idPos': 3, 'fen': 'rnbqkbnr/ppp2ppp/4p3/3p4/4PP2/8/PPPP2PP/RNBQKBNR w KQkq - 0 3', 'opening': 'French Defense: La Bourdonnais Variation', 'ECO': 'C00'}, {'idPos': 4, 'fen': 'rnbqkbnr/ppp2ppp/4p3/3pP3/5P2/8/PPPP2PP/RNBQKBNR b KQkq - 0 3', 'opening': 'French Defense: La Bourdonnais Variation', 'ECO': 'C00'}, {'idPos': 5, 'fen': 'rnbqkbnr/pp3ppp/4p3/2ppP3/5P2/8/PPPP2PP/RNBQKBNR w KQkq - 0 4', 'opening': 'French Defense: La Bourdonnais Variation', 'ECO': 'C00'}, {'idPos': 6, 'fen': 'rnbqkbnr/pp3ppp/4p3/2ppP3/5P2/5N2/PPPP2PP/RNBQKB1R b KQkq - 1 4', 'opening': 'French Defense: La Bourdonnais Variation', 'ECO': 'C00'}, {'idPos': 7, 'fen': 'rnb1kbnr/pp3ppp/1q2p3/2ppP3/5P2/5N2/PPPP2PP/RNBQKB1R w KQkq - 2 5', 'opening': 'French Defense: La Bourdonnais Variation', 'ECO': 'C00'}, {'idPos': 8, 'fen': 'rnb1kbnr/pp3ppp/1q2p3/2ppP3/5P2/2P2N2/PP1P2PP/RNBQKB1R b KQkq - 0 5', 'opening': 'French Defense: La Bourdonnais Variation', 'ECO': 'C00'}, {'idPos': 9, 'fen': 'r1b1kbnr/pp3ppp/1qn1p3/2ppP3/5P2/2P2N2/PP1P2PP/RNBQKB1R w KQkq - 1 6', 'opening': 'French Defense: La Bourdonnais Variation', 'ECO': 'C00'}, {'idPos': 10, 'fen': 'r1b1kbnr/pp3ppp/1qn1p3/2ppP3/5P2/2PP1N2/PP4PP/RNBQKB1R b KQkq - 0 6', 'opening': 'French Defense: La Bourdonnais Variation', 'ECO': 'C00'}, {'idPos': 11, 'fen': 'r3kbnr/pp1b1ppp/1qn1p3/2ppP3/5P2/2PP1N2/PP4PP/RNBQKB1R w KQkq - 1 7', 'opening': 'French Defense: La Bourdonnais Variation', 'ECO': 'C00'}, {'idPos': 12, 'fen': 'r3kbnr/pp1b1ppp/1qn1p3/2ppP3/5P2/2PP1N2/PP2B1PP/RNBQK2R b KQkq - 2 7', 'opening': 'French Defense: La Bourdonnais Variation', 'ECO': 'C00'}, {'idPos': 13, 'fen': 'r3kb1r/pp1b1ppp/1qn1p2n/2ppP3/5P2/2PP1N2/PP2B1PP/RNBQK2R w KQkq - 3 8', 'opening': 'French Defense: La Bourdonnais Variation', 'ECO': 'C00'}, {'idPos': 14, 'fen': 'r3kb1r/pp1b1ppp/1qn1p2n/2ppP3/5P2/2PP1N2/PP2B1PP/RNBQ1RK1 b kq - 4 8', 'opening': 'French Defense: La Bourdonnais Variation', 'ECO': 'C00'}, {'idPos': 15, 'fen': 'r3kb1r/pp1b1ppp/1qn1p3/2ppPn2/5P2/2PP1N2/PP2B1PP/RNBQ1RK1 w kq - 5 9', 'opening': 'French Defense: La Bourdonnais Variation', 'ECO': 'C00'}, {'idPos': 16, 'fen': 'r3kb1r/pp1b1ppp/1qn1p3/2ppPn2/5PP1/2PP1N2/PP2B2P/RNBQ1RK1 b kq - 0 9', 'opening': 'French Defense: La Bourdonnais Variation', 'ECO': 'C00'}, {'idPos': 17, 'fen': 'r3kb1r/pp1b1ppp/1qn1p2n/2ppP3/5PP1/2PP1N2/PP2B2P/RNBQ1RK1 w kq - 1 10', 'opening': 'French Defense: La Bourdonnais Variation', 'ECO': 'C00'}, {'idPos': 18, 'fen': 'r3kb1r/pp1b1ppp/1qn1p2n/2ppP3/5PP1/2PP1N2/PP2B1KP/RNBQ1R2 b kq - 2 10', 'opening': 'French Defense: La Bourdonnais Variation', 'ECO': 'C00'}, {'idPos': 19, 'fen': 'r3kb1r/pp1b1ppp/1qn1p3/2ppP3/5Pn1/2PP1N2/PP2B1KP/RNBQ1R2 w kq - 0 11', 'opening': 'French Defense: La Bourdonnais Variation', 'ECO': 'C00'}, {'idPos': 20, 'fen': 'r3kb1r/pp1b1ppp/1qn1p3/2ppP3/5Pn1/2PP1N1P/PP2B1K1/RNBQ1R2 b kq - 0 11', 'opening': 'French Defense: La Bourdonnais Variation', 'ECO': 'C00'}, {'idPos': 21, 'fen': 'r3kb1r/pp1b1ppp/1qn1p2n/2ppP3/5P2/2PP1N1P/PP2B1K1/RNBQ1R2 w kq - 1 12', 'opening': 'French Defense: La Bourdonnais Variation', 'ECO': 'C00'}, {'idPos': 22, 'fen': 'r3kb1r/pp1b1ppp/1qn1p2n/2ppP1N1/5P2/2PP3P/PP2B1K1/RNBQ1R2 b kq - 2 12', 'opening': 'French Defense: La Bourdonnais Variation', 'ECO': 'C00'}, {'idPos': 23, 'fen': 'r3kb1r/pp1b1ppp/1qn1p3/2ppPnN1/5P2/2PP3P/PP2B1K1/RNBQ1R2 w kq - 3 13', 'opening': 'French Defense: La Bourdonnais Variation', 'ECO': 'C00'}, {'idPos': 24, 'fen': 'r3kb1r/pp1b1ppp/1qn1p3/2ppPnN1/5PB1/2PP3P/PP4K1/RNBQ1R2 b kq - 4 13', 'opening': 'French Defense: La Bourdonnais Variation', 'ECO': 'C00'}, {'idPos': 25, 'fen': 'r3kb1r/pp1bnppp/1q2p3/2ppPnN1/5PB1/2PP3P/PP4K1/RNBQ1R2 w kq - 5 14', 'opening': 'French Defense: La Bourdonnais Variation', 'ECO': 'C00'}, {'idPos': 26, 'fen': 'r3kb1r/pp1bnppp/1q2p3/2ppPnN1/5PB1/2PP3P/PP1N2K1/R1BQ1R2 b kq - 6 14', 'opening': 'French Defense: La Bourdonnais Variation', 'ECO': 'C00'}, {'idPos': 27, 'fen': 'r3kb1r/pp1bnppp/1q2p3/2ppP1N1/5PB1/2PPn2P/PP1N2K1/R1BQ1R2 w kq - 7 15', 'opening': 'French Defense: La Bourdonnais Variation', 'ECO': 'C00'}, {'idPos': 28, 'fen': 'r3kb1r/pp1bnppp/1q2p3/2ppP1N1/5PB1/2PPnK1P/PP1N4/R1BQ1R2 b kq - 8 15', 'opening': 'French Defense: La Bourdonnais Variation', 'ECO': 'C00'}, {'idPos': 29, 'fen': 'r3kb1r/pp1bnppp/1q2p3/2ppP1N1/5PB1/2PP1K1P/PP1N4/R1Bn1R2 w kq - 0 16', 'opening': 'French Defense: La Bourdonnais Variation', 'ECO': 'C00'}, {'idPos': 30, 'fen': 'r3kb1r/pp1bnppp/1q2p3/2ppP1N1/5PB1/2PP1K1P/PP1N4/R1BR4 b kq - 0 16', 'opening': 'French Defense: La Bourdonnais Variation', 'ECO': 'C00'}, {'idPos': 31, 'fen': 'r3kb1r/pp1bnpp1/1q2p2p/2ppP1N1/5PB1/2PP1K1P/PP1N4/R1BR4 w kq - 0 17', 'opening': 'French Defense: La Bourdonnais Variation', 'ECO': 'C00'}, {'idPos': 32, 'fen': 'r3kb1r/pp1bnNp1/1q2p2p/2ppP3/5PB1/2PP1K1P/PP1N4/R1BR4 b kq - 0 17', 'opening': 'French Defense: La Bourdonnais Variation', 'ECO': 'C00'}, {'idPos': 33, 'fen': 'r4b1r/pp1bnkp1/1q2p2p/2ppP3/5PB1/2PP1K1P/PP1N4/R1BR4 w - - 0 18', 'opening': 'French Defense: La Bourdonnais Variation', 'ECO': 'C00'}, {'idPos': 34, 'fen': 'r4b1r/pp1bnkp1/1q2p2p/2ppP3/5PB1/2PP1K1P/PP1N4/R1B2R2 b - - 1 18', 'opening': 'French Defense: La Bourdonnais Variation', 'ECO': 'C00'}, {'idPos': 35, 'fen': 'r4b1r/pp1bnkp1/1q2p3/2ppP2p/5PB1/2PP1K1P/PP1N4/R1B2R2 w - - 0 19', 'opening': 'French Defense: La Bourdonnais Variation', 'ECO': 'C00'}, {'idPos': 36, 'fen': 'r4b1r/pp1bnkp1/1q2B3/2ppP2p/5P2/2PP1K1P/PP1N4/R1B2R2 b - - 0 19', 'opening': 'French Defense: La Bourdonnais Variation', 'ECO': 'C00'}, {'idPos': 37, 'fen': 'r4b1r/pp2nkp1/1q2b3/2ppP2p/5P2/2PP1K1P/PP1N4/R1B2R2 w - - 0 20', 'opening': 'French Defense: La Bourdonnais Variation', 'ECO': 'C00'}, {'idPos': 38, 'fen': 'r4b1r/pp2nkp1/1q2b3/2ppP2p/5P2/2PP2KP/PP1N4/R1B2R2 b - - 1 20', 'opening': 'French Defense: La Bourdonnais Variation', 'ECO': 'C00'}, {'idPos': 39, 'fen': 'r4b1r/pp3kp1/1q2b3/2ppPn1p/5P2/2PP2KP/PP1N4/R1B2R2 w - - 2 21', 'opening': 'French Defense: La Bourdonnais Variation', 'ECO': 'C00'}, {'idPos': 40, 'fen': 'r4b1r/pp3kp1/1q2b3/2ppPn1p/5P2/2PP3P/PP1N2K1/R1B2R2 b - - 3 21', 'opening': 'French Defense: La Bourdonnais Variation', 'ECO': 'C00'}, {'idPos': 41, 'fen': 'r4b1r/pp3kp1/1q2b3/2ppP2p/5P2/2PPn2P/PP1N2K1/R1B2R2 w - - 4 22', 'opening': 'French Defense: La Bourdonnais Variation', 'ECO': 'C00'}, {'idPos': 42, 'fen': 'r4b1r/pp3kp1/1q2b3/2ppP2p/5P2/2PPn2P/PP1N1K2/R1B2R2 b - - 5 22', 'opening': 'French Defense: La Bourdonnais Variation', 'ECO': 'C00'}, {'idPos': 43, 'fen': 'r4b1r/pp3kp1/1q2b3/2ppP2p/5P2/2PP3P/PP1N1K2/R1B2n2 w - - 0 23', 'opening': 'French Defense: La Bourdonnais Variation', 'ECO': 'C00'}, {'idPos': 44, 'fen': 'r4b1r/pp3kp1/1q2b3/2ppP2p/5P2/2PP3P/PP1N4/R1B2K2 b - - 0 23', 'opening': 'French Defense: La Bourdonnais Variation', 'ECO': 'C00'}, {'idPos': 45, 'fen': 'r4b1r/pp3kp1/1q6/2ppP2p/5P2/2PP3b/PP1N4/R1B2K2 w - - 0 24', 'opening': 'French Defense: La Bourdonnais Variation', 'ECO': 'C00'}]\n"
          ]
        }
      ]
    },
    {
      "cell_type": "code",
      "source": [
        "pgn = chess.pgn.read_game(io.StringIO(pgn_text))\n",
        "board = pgn.board() # Initialize the board with the starting position\n",
        "\n",
        "posiciones = []\n",
        "posiciones.append(board.fen()) # Add the starting position\n",
        "\n",
        "\n",
        "for i, move in enumerate(pgn.mainline_moves(), start=1):\n",
        "    board.push(move)\n",
        "    # print(f\"Jugada {i}: {board.fen()}\")\n",
        "    posiciones.append(board.fen())\n",
        "\n",
        "posicionesECO = {\"boards\": posiciones, \"oppening\": pgn.headers[\"Opening\"]}\n",
        "print(posicionesECO)"
      ],
      "metadata": {
        "colab": {
          "base_uri": "https://localhost:8080/"
        },
        "id": "Dm8aPsOSwigu",
        "outputId": "1d673194-a9ef-4ed3-af4e-616dbc42facb",
        "collapsed": true
      },
      "execution_count": 84,
      "outputs": [
        {
          "output_type": "stream",
          "name": "stdout",
          "text": [
            "{'boards': ['rnbqkbnr/pppppppp/8/8/8/8/PPPPPPPP/RNBQKBNR w KQkq - 0 1', 'rnbqkbnr/pppppppp/8/8/4P3/8/PPPP1PPP/RNBQKBNR b KQkq - 0 1', 'rnbqkbnr/pppp1ppp/4p3/8/4P3/8/PPPP1PPP/RNBQKBNR w KQkq - 0 2', 'rnbqkbnr/pppp1ppp/4p3/8/4PP2/8/PPPP2PP/RNBQKBNR b KQkq - 0 2', 'rnbqkbnr/ppp2ppp/4p3/3p4/4PP2/8/PPPP2PP/RNBQKBNR w KQkq - 0 3', 'rnbqkbnr/ppp2ppp/4p3/3pP3/5P2/8/PPPP2PP/RNBQKBNR b KQkq - 0 3', 'rnbqkbnr/pp3ppp/4p3/2ppP3/5P2/8/PPPP2PP/RNBQKBNR w KQkq - 0 4', 'rnbqkbnr/pp3ppp/4p3/2ppP3/5P2/5N2/PPPP2PP/RNBQKB1R b KQkq - 1 4', 'rnb1kbnr/pp3ppp/1q2p3/2ppP3/5P2/5N2/PPPP2PP/RNBQKB1R w KQkq - 2 5', 'rnb1kbnr/pp3ppp/1q2p3/2ppP3/5P2/2P2N2/PP1P2PP/RNBQKB1R b KQkq - 0 5', 'r1b1kbnr/pp3ppp/1qn1p3/2ppP3/5P2/2P2N2/PP1P2PP/RNBQKB1R w KQkq - 1 6', 'r1b1kbnr/pp3ppp/1qn1p3/2ppP3/5P2/2PP1N2/PP4PP/RNBQKB1R b KQkq - 0 6', 'r3kbnr/pp1b1ppp/1qn1p3/2ppP3/5P2/2PP1N2/PP4PP/RNBQKB1R w KQkq - 1 7', 'r3kbnr/pp1b1ppp/1qn1p3/2ppP3/5P2/2PP1N2/PP2B1PP/RNBQK2R b KQkq - 2 7', 'r3kb1r/pp1b1ppp/1qn1p2n/2ppP3/5P2/2PP1N2/PP2B1PP/RNBQK2R w KQkq - 3 8', 'r3kb1r/pp1b1ppp/1qn1p2n/2ppP3/5P2/2PP1N2/PP2B1PP/RNBQ1RK1 b kq - 4 8', 'r3kb1r/pp1b1ppp/1qn1p3/2ppPn2/5P2/2PP1N2/PP2B1PP/RNBQ1RK1 w kq - 5 9', 'r3kb1r/pp1b1ppp/1qn1p3/2ppPn2/5PP1/2PP1N2/PP2B2P/RNBQ1RK1 b kq - 0 9', 'r3kb1r/pp1b1ppp/1qn1p2n/2ppP3/5PP1/2PP1N2/PP2B2P/RNBQ1RK1 w kq - 1 10', 'r3kb1r/pp1b1ppp/1qn1p2n/2ppP3/5PP1/2PP1N2/PP2B1KP/RNBQ1R2 b kq - 2 10', 'r3kb1r/pp1b1ppp/1qn1p3/2ppP3/5Pn1/2PP1N2/PP2B1KP/RNBQ1R2 w kq - 0 11', 'r3kb1r/pp1b1ppp/1qn1p3/2ppP3/5Pn1/2PP1N1P/PP2B1K1/RNBQ1R2 b kq - 0 11', 'r3kb1r/pp1b1ppp/1qn1p2n/2ppP3/5P2/2PP1N1P/PP2B1K1/RNBQ1R2 w kq - 1 12', 'r3kb1r/pp1b1ppp/1qn1p2n/2ppP1N1/5P2/2PP3P/PP2B1K1/RNBQ1R2 b kq - 2 12', 'r3kb1r/pp1b1ppp/1qn1p3/2ppPnN1/5P2/2PP3P/PP2B1K1/RNBQ1R2 w kq - 3 13', 'r3kb1r/pp1b1ppp/1qn1p3/2ppPnN1/5PB1/2PP3P/PP4K1/RNBQ1R2 b kq - 4 13', 'r3kb1r/pp1bnppp/1q2p3/2ppPnN1/5PB1/2PP3P/PP4K1/RNBQ1R2 w kq - 5 14', 'r3kb1r/pp1bnppp/1q2p3/2ppPnN1/5PB1/2PP3P/PP1N2K1/R1BQ1R2 b kq - 6 14', 'r3kb1r/pp1bnppp/1q2p3/2ppP1N1/5PB1/2PPn2P/PP1N2K1/R1BQ1R2 w kq - 7 15', 'r3kb1r/pp1bnppp/1q2p3/2ppP1N1/5PB1/2PPnK1P/PP1N4/R1BQ1R2 b kq - 8 15', 'r3kb1r/pp1bnppp/1q2p3/2ppP1N1/5PB1/2PP1K1P/PP1N4/R1Bn1R2 w kq - 0 16', 'r3kb1r/pp1bnppp/1q2p3/2ppP1N1/5PB1/2PP1K1P/PP1N4/R1BR4 b kq - 0 16', 'r3kb1r/pp1bnpp1/1q2p2p/2ppP1N1/5PB1/2PP1K1P/PP1N4/R1BR4 w kq - 0 17', 'r3kb1r/pp1bnNp1/1q2p2p/2ppP3/5PB1/2PP1K1P/PP1N4/R1BR4 b kq - 0 17', 'r4b1r/pp1bnkp1/1q2p2p/2ppP3/5PB1/2PP1K1P/PP1N4/R1BR4 w - - 0 18', 'r4b1r/pp1bnkp1/1q2p2p/2ppP3/5PB1/2PP1K1P/PP1N4/R1B2R2 b - - 1 18', 'r4b1r/pp1bnkp1/1q2p3/2ppP2p/5PB1/2PP1K1P/PP1N4/R1B2R2 w - - 0 19', 'r4b1r/pp1bnkp1/1q2B3/2ppP2p/5P2/2PP1K1P/PP1N4/R1B2R2 b - - 0 19', 'r4b1r/pp2nkp1/1q2b3/2ppP2p/5P2/2PP1K1P/PP1N4/R1B2R2 w - - 0 20', 'r4b1r/pp2nkp1/1q2b3/2ppP2p/5P2/2PP2KP/PP1N4/R1B2R2 b - - 1 20', 'r4b1r/pp3kp1/1q2b3/2ppPn1p/5P2/2PP2KP/PP1N4/R1B2R2 w - - 2 21', 'r4b1r/pp3kp1/1q2b3/2ppPn1p/5P2/2PP3P/PP1N2K1/R1B2R2 b - - 3 21', 'r4b1r/pp3kp1/1q2b3/2ppP2p/5P2/2PPn2P/PP1N2K1/R1B2R2 w - - 4 22', 'r4b1r/pp3kp1/1q2b3/2ppP2p/5P2/2PPn2P/PP1N1K2/R1B2R2 b - - 5 22', 'r4b1r/pp3kp1/1q2b3/2ppP2p/5P2/2PP3P/PP1N1K2/R1B2n2 w - - 0 23', 'r4b1r/pp3kp1/1q2b3/2ppP2p/5P2/2PP3P/PP1N4/R1B2K2 b - - 0 23', 'r4b1r/pp3kp1/1q6/2ppP2p/5P2/2PP3b/PP1N4/R1B2K2 w - - 0 24'], 'oppening': 'French Defense: La Bourdonnais Variation'}\n"
          ]
        }
      ]
    },
    {
      "cell_type": "code",
      "source": [
        "print(posiciones)"
      ],
      "metadata": {
        "colab": {
          "base_uri": "https://localhost:8080/"
        },
        "id": "PXxwPE21zXtL",
        "outputId": "6ab9871e-8601-425b-effe-157305a5a6d2"
      },
      "execution_count": 65,
      "outputs": [
        {
          "output_type": "stream",
          "name": "stdout",
          "text": [
            "['rnbqkbnr/pppppppp/8/8/8/8/PPPPPPPP/RNBQKBNR w KQkq - 0 1', 'rnbqkbnr/pppppppp/8/8/4P3/8/PPPP1PPP/RNBQKBNR b KQkq - 0 1', 'rnbqkbnr/pppp1ppp/4p3/8/4P3/8/PPPP1PPP/RNBQKBNR w KQkq - 0 2', 'rnbqkbnr/pppp1ppp/4p3/8/4PP2/8/PPPP2PP/RNBQKBNR b KQkq - 0 2', 'rnbqkbnr/ppp2ppp/4p3/3p4/4PP2/8/PPPP2PP/RNBQKBNR w KQkq - 0 3', 'rnbqkbnr/ppp2ppp/4p3/3pP3/5P2/8/PPPP2PP/RNBQKBNR b KQkq - 0 3', 'rnbqkbnr/pp3ppp/4p3/2ppP3/5P2/8/PPPP2PP/RNBQKBNR w KQkq - 0 4', 'rnbqkbnr/pp3ppp/4p3/2ppP3/5P2/5N2/PPPP2PP/RNBQKB1R b KQkq - 1 4', 'rnb1kbnr/pp3ppp/1q2p3/2ppP3/5P2/5N2/PPPP2PP/RNBQKB1R w KQkq - 2 5', 'rnb1kbnr/pp3ppp/1q2p3/2ppP3/5P2/2P2N2/PP1P2PP/RNBQKB1R b KQkq - 0 5', 'r1b1kbnr/pp3ppp/1qn1p3/2ppP3/5P2/2P2N2/PP1P2PP/RNBQKB1R w KQkq - 1 6', 'r1b1kbnr/pp3ppp/1qn1p3/2ppP3/5P2/2PP1N2/PP4PP/RNBQKB1R b KQkq - 0 6', 'r3kbnr/pp1b1ppp/1qn1p3/2ppP3/5P2/2PP1N2/PP4PP/RNBQKB1R w KQkq - 1 7', 'r3kbnr/pp1b1ppp/1qn1p3/2ppP3/5P2/2PP1N2/PP2B1PP/RNBQK2R b KQkq - 2 7', 'r3kb1r/pp1b1ppp/1qn1p2n/2ppP3/5P2/2PP1N2/PP2B1PP/RNBQK2R w KQkq - 3 8', 'r3kb1r/pp1b1ppp/1qn1p2n/2ppP3/5P2/2PP1N2/PP2B1PP/RNBQ1RK1 b kq - 4 8', 'r3kb1r/pp1b1ppp/1qn1p3/2ppPn2/5P2/2PP1N2/PP2B1PP/RNBQ1RK1 w kq - 5 9', 'r3kb1r/pp1b1ppp/1qn1p3/2ppPn2/5PP1/2PP1N2/PP2B2P/RNBQ1RK1 b kq - 0 9', 'r3kb1r/pp1b1ppp/1qn1p2n/2ppP3/5PP1/2PP1N2/PP2B2P/RNBQ1RK1 w kq - 1 10', 'r3kb1r/pp1b1ppp/1qn1p2n/2ppP3/5PP1/2PP1N2/PP2B1KP/RNBQ1R2 b kq - 2 10', 'r3kb1r/pp1b1ppp/1qn1p3/2ppP3/5Pn1/2PP1N2/PP2B1KP/RNBQ1R2 w kq - 0 11', 'r3kb1r/pp1b1ppp/1qn1p3/2ppP3/5Pn1/2PP1N1P/PP2B1K1/RNBQ1R2 b kq - 0 11', 'r3kb1r/pp1b1ppp/1qn1p2n/2ppP3/5P2/2PP1N1P/PP2B1K1/RNBQ1R2 w kq - 1 12', 'r3kb1r/pp1b1ppp/1qn1p2n/2ppP1N1/5P2/2PP3P/PP2B1K1/RNBQ1R2 b kq - 2 12', 'r3kb1r/pp1b1ppp/1qn1p3/2ppPnN1/5P2/2PP3P/PP2B1K1/RNBQ1R2 w kq - 3 13', 'r3kb1r/pp1b1ppp/1qn1p3/2ppPnN1/5PB1/2PP3P/PP4K1/RNBQ1R2 b kq - 4 13', 'r3kb1r/pp1bnppp/1q2p3/2ppPnN1/5PB1/2PP3P/PP4K1/RNBQ1R2 w kq - 5 14', 'r3kb1r/pp1bnppp/1q2p3/2ppPnN1/5PB1/2PP3P/PP1N2K1/R1BQ1R2 b kq - 6 14', 'r3kb1r/pp1bnppp/1q2p3/2ppP1N1/5PB1/2PPn2P/PP1N2K1/R1BQ1R2 w kq - 7 15', 'r3kb1r/pp1bnppp/1q2p3/2ppP1N1/5PB1/2PPnK1P/PP1N4/R1BQ1R2 b kq - 8 15', 'r3kb1r/pp1bnppp/1q2p3/2ppP1N1/5PB1/2PP1K1P/PP1N4/R1Bn1R2 w kq - 0 16', 'r3kb1r/pp1bnppp/1q2p3/2ppP1N1/5PB1/2PP1K1P/PP1N4/R1BR4 b kq - 0 16', 'r3kb1r/pp1bnpp1/1q2p2p/2ppP1N1/5PB1/2PP1K1P/PP1N4/R1BR4 w kq - 0 17', 'r3kb1r/pp1bnNp1/1q2p2p/2ppP3/5PB1/2PP1K1P/PP1N4/R1BR4 b kq - 0 17', 'r4b1r/pp1bnkp1/1q2p2p/2ppP3/5PB1/2PP1K1P/PP1N4/R1BR4 w - - 0 18', 'r4b1r/pp1bnkp1/1q2p2p/2ppP3/5PB1/2PP1K1P/PP1N4/R1B2R2 b - - 1 18', 'r4b1r/pp1bnkp1/1q2p3/2ppP2p/5PB1/2PP1K1P/PP1N4/R1B2R2 w - - 0 19', 'r4b1r/pp1bnkp1/1q2B3/2ppP2p/5P2/2PP1K1P/PP1N4/R1B2R2 b - - 0 19', 'r4b1r/pp2nkp1/1q2b3/2ppP2p/5P2/2PP1K1P/PP1N4/R1B2R2 w - - 0 20', 'r4b1r/pp2nkp1/1q2b3/2ppP2p/5P2/2PP2KP/PP1N4/R1B2R2 b - - 1 20', 'r4b1r/pp3kp1/1q2b3/2ppPn1p/5P2/2PP2KP/PP1N4/R1B2R2 w - - 2 21', 'r4b1r/pp3kp1/1q2b3/2ppPn1p/5P2/2PP3P/PP1N2K1/R1B2R2 b - - 3 21', 'r4b1r/pp3kp1/1q2b3/2ppP2p/5P2/2PPn2P/PP1N2K1/R1B2R2 w - - 4 22', 'r4b1r/pp3kp1/1q2b3/2ppP2p/5P2/2PPn2P/PP1N1K2/R1B2R2 b - - 5 22', 'r4b1r/pp3kp1/1q2b3/2ppP2p/5P2/2PP3P/PP1N1K2/R1B2n2 w - - 0 23', 'r4b1r/pp3kp1/1q2b3/2ppP2p/5P2/2PP3P/PP1N4/R1B2K2 b - - 0 23', 'r4b1r/pp3kp1/1q6/2ppP2p/5P2/2PP3b/PP1N4/R1B2K2 w - - 0 24']\n"
          ]
        }
      ]
    },
    {
      "cell_type": "code",
      "source": [
        "fen1  = posiciones[1]\n",
        "print(fen1)"
      ],
      "metadata": {
        "colab": {
          "base_uri": "https://localhost:8080/"
        },
        "id": "-f_PG0OZz2yy",
        "outputId": "b64ae4b6-d20d-4d01-e7c7-40e279fe4de6"
      },
      "execution_count": 66,
      "outputs": [
        {
          "output_type": "stream",
          "name": "stdout",
          "text": [
            "rnbqkbnr/pppppppp/8/8/4P3/8/PPPP1PPP/RNBQKBNR b KQkq - 0 1\n"
          ]
        }
      ]
    },
    {
      "cell_type": "code",
      "source": [
        "def fen_to_tensor(fen):\n",
        "    board = chess.Board(fen)\n",
        "    piece_map = board.piece_map()\n",
        "    tensor = [0] * 64\n",
        "\n",
        "    piece_encoding = {\n",
        "        'P': 1, 'N': 2, 'B': 3, 'R': 4, 'Q': 5, 'K': 6,\n",
        "        'p': 7, 'n': 8, 'b': 9, 'r': 10, 'q': 11, 'k': 12\n",
        "    }\n",
        "\n",
        "    for square, piece in piece_map.items():\n",
        "        tensor[square] = piece_encoding[piece.symbol()]\n",
        "\n",
        "    turn = int(board.turn)  # 0 = white, 1 = black\n",
        "    castling = [\n",
        "        int(board.has_kingside_castling_rights(chess.WHITE)),\n",
        "        int(board.has_queenside_castling_rights(chess.WHITE)),\n",
        "        int(board.has_kingside_castling_rights(chess.BLACK)),\n",
        "        int(board.has_queenside_castling_rights(chess.BLACK))\n",
        "    ]\n",
        "    ep_square = board.ep_square if board.ep_square is not None else -1\n",
        "    halfmove = board.halfmove_clock\n",
        "    fullmove = board.fullmove_number\n",
        "\n",
        "    return {\n",
        "        \"board\": tensor,\n",
        "        \"turn\": turn,\n",
        "        \"castling\": castling,\n",
        "        \"ep_square\": ep_square,\n",
        "        \"halfmove\": halfmove,\n",
        "        \"fullmove\": fullmove\n",
        "    }"
      ],
      "metadata": {
        "id": "y123RV-Axdu9"
      },
      "execution_count": 81,
      "outputs": []
    },
    {
      "cell_type": "code",
      "source": [
        "for i, fen in enumerate(posiciones):\n",
        "    print(fen)\n"
      ],
      "metadata": {
        "colab": {
          "base_uri": "https://localhost:8080/"
        },
        "id": "m3hvxAOY3hpD",
        "outputId": "dea89544-bbce-4243-9f71-dc2d936a5aca"
      },
      "execution_count": 82,
      "outputs": [
        {
          "output_type": "stream",
          "name": "stdout",
          "text": [
            "rnbqkbnr/pppppppp/8/8/8/8/PPPPPPPP/RNBQKBNR w KQkq - 0 1\n",
            "rnbqkbnr/pppppppp/8/8/4P3/8/PPPP1PPP/RNBQKBNR b KQkq - 0 1\n",
            "rnbqkbnr/pppp1ppp/4p3/8/4P3/8/PPPP1PPP/RNBQKBNR w KQkq - 0 2\n",
            "rnbqkbnr/pppp1ppp/4p3/8/4PP2/8/PPPP2PP/RNBQKBNR b KQkq - 0 2\n",
            "rnbqkbnr/ppp2ppp/4p3/3p4/4PP2/8/PPPP2PP/RNBQKBNR w KQkq - 0 3\n",
            "rnbqkbnr/ppp2ppp/4p3/3pP3/5P2/8/PPPP2PP/RNBQKBNR b KQkq - 0 3\n",
            "rnbqkbnr/pp3ppp/4p3/2ppP3/5P2/8/PPPP2PP/RNBQKBNR w KQkq - 0 4\n",
            "rnbqkbnr/pp3ppp/4p3/2ppP3/5P2/5N2/PPPP2PP/RNBQKB1R b KQkq - 1 4\n",
            "rnb1kbnr/pp3ppp/1q2p3/2ppP3/5P2/5N2/PPPP2PP/RNBQKB1R w KQkq - 2 5\n",
            "rnb1kbnr/pp3ppp/1q2p3/2ppP3/5P2/2P2N2/PP1P2PP/RNBQKB1R b KQkq - 0 5\n",
            "r1b1kbnr/pp3ppp/1qn1p3/2ppP3/5P2/2P2N2/PP1P2PP/RNBQKB1R w KQkq - 1 6\n",
            "r1b1kbnr/pp3ppp/1qn1p3/2ppP3/5P2/2PP1N2/PP4PP/RNBQKB1R b KQkq - 0 6\n",
            "r3kbnr/pp1b1ppp/1qn1p3/2ppP3/5P2/2PP1N2/PP4PP/RNBQKB1R w KQkq - 1 7\n",
            "r3kbnr/pp1b1ppp/1qn1p3/2ppP3/5P2/2PP1N2/PP2B1PP/RNBQK2R b KQkq - 2 7\n",
            "r3kb1r/pp1b1ppp/1qn1p2n/2ppP3/5P2/2PP1N2/PP2B1PP/RNBQK2R w KQkq - 3 8\n",
            "r3kb1r/pp1b1ppp/1qn1p2n/2ppP3/5P2/2PP1N2/PP2B1PP/RNBQ1RK1 b kq - 4 8\n",
            "r3kb1r/pp1b1ppp/1qn1p3/2ppPn2/5P2/2PP1N2/PP2B1PP/RNBQ1RK1 w kq - 5 9\n",
            "r3kb1r/pp1b1ppp/1qn1p3/2ppPn2/5PP1/2PP1N2/PP2B2P/RNBQ1RK1 b kq - 0 9\n",
            "r3kb1r/pp1b1ppp/1qn1p2n/2ppP3/5PP1/2PP1N2/PP2B2P/RNBQ1RK1 w kq - 1 10\n",
            "r3kb1r/pp1b1ppp/1qn1p2n/2ppP3/5PP1/2PP1N2/PP2B1KP/RNBQ1R2 b kq - 2 10\n",
            "r3kb1r/pp1b1ppp/1qn1p3/2ppP3/5Pn1/2PP1N2/PP2B1KP/RNBQ1R2 w kq - 0 11\n",
            "r3kb1r/pp1b1ppp/1qn1p3/2ppP3/5Pn1/2PP1N1P/PP2B1K1/RNBQ1R2 b kq - 0 11\n",
            "r3kb1r/pp1b1ppp/1qn1p2n/2ppP3/5P2/2PP1N1P/PP2B1K1/RNBQ1R2 w kq - 1 12\n",
            "r3kb1r/pp1b1ppp/1qn1p2n/2ppP1N1/5P2/2PP3P/PP2B1K1/RNBQ1R2 b kq - 2 12\n",
            "r3kb1r/pp1b1ppp/1qn1p3/2ppPnN1/5P2/2PP3P/PP2B1K1/RNBQ1R2 w kq - 3 13\n",
            "r3kb1r/pp1b1ppp/1qn1p3/2ppPnN1/5PB1/2PP3P/PP4K1/RNBQ1R2 b kq - 4 13\n",
            "r3kb1r/pp1bnppp/1q2p3/2ppPnN1/5PB1/2PP3P/PP4K1/RNBQ1R2 w kq - 5 14\n",
            "r3kb1r/pp1bnppp/1q2p3/2ppPnN1/5PB1/2PP3P/PP1N2K1/R1BQ1R2 b kq - 6 14\n",
            "r3kb1r/pp1bnppp/1q2p3/2ppP1N1/5PB1/2PPn2P/PP1N2K1/R1BQ1R2 w kq - 7 15\n",
            "r3kb1r/pp1bnppp/1q2p3/2ppP1N1/5PB1/2PPnK1P/PP1N4/R1BQ1R2 b kq - 8 15\n",
            "r3kb1r/pp1bnppp/1q2p3/2ppP1N1/5PB1/2PP1K1P/PP1N4/R1Bn1R2 w kq - 0 16\n",
            "r3kb1r/pp1bnppp/1q2p3/2ppP1N1/5PB1/2PP1K1P/PP1N4/R1BR4 b kq - 0 16\n",
            "r3kb1r/pp1bnpp1/1q2p2p/2ppP1N1/5PB1/2PP1K1P/PP1N4/R1BR4 w kq - 0 17\n",
            "r3kb1r/pp1bnNp1/1q2p2p/2ppP3/5PB1/2PP1K1P/PP1N4/R1BR4 b kq - 0 17\n",
            "r4b1r/pp1bnkp1/1q2p2p/2ppP3/5PB1/2PP1K1P/PP1N4/R1BR4 w - - 0 18\n",
            "r4b1r/pp1bnkp1/1q2p2p/2ppP3/5PB1/2PP1K1P/PP1N4/R1B2R2 b - - 1 18\n",
            "r4b1r/pp1bnkp1/1q2p3/2ppP2p/5PB1/2PP1K1P/PP1N4/R1B2R2 w - - 0 19\n",
            "r4b1r/pp1bnkp1/1q2B3/2ppP2p/5P2/2PP1K1P/PP1N4/R1B2R2 b - - 0 19\n",
            "r4b1r/pp2nkp1/1q2b3/2ppP2p/5P2/2PP1K1P/PP1N4/R1B2R2 w - - 0 20\n",
            "r4b1r/pp2nkp1/1q2b3/2ppP2p/5P2/2PP2KP/PP1N4/R1B2R2 b - - 1 20\n",
            "r4b1r/pp3kp1/1q2b3/2ppPn1p/5P2/2PP2KP/PP1N4/R1B2R2 w - - 2 21\n",
            "r4b1r/pp3kp1/1q2b3/2ppPn1p/5P2/2PP3P/PP1N2K1/R1B2R2 b - - 3 21\n",
            "r4b1r/pp3kp1/1q2b3/2ppP2p/5P2/2PPn2P/PP1N2K1/R1B2R2 w - - 4 22\n",
            "r4b1r/pp3kp1/1q2b3/2ppP2p/5P2/2PPn2P/PP1N1K2/R1B2R2 b - - 5 22\n",
            "r4b1r/pp3kp1/1q2b3/2ppP2p/5P2/2PP3P/PP1N1K2/R1B2n2 w - - 0 23\n",
            "r4b1r/pp3kp1/1q2b3/2ppP2p/5P2/2PP3P/PP1N4/R1B2K2 b - - 0 23\n",
            "r4b1r/pp3kp1/1q6/2ppP2p/5P2/2PP3b/PP1N4/R1B2K2 w - - 0 24\n"
          ]
        }
      ]
    },
    {
      "cell_type": "code",
      "source": [
        "tensores = []\n",
        "for i, _ in enumerate(posiciones):\n",
        "    tensores.append(fen_to_tensor(posiciones[i]))\n",
        "print(tensores)"
      ],
      "metadata": {
        "colab": {
          "base_uri": "https://localhost:8080/"
        },
        "id": "oSaiS8v31iX9",
        "outputId": "aa094628-06ea-479c-f957-8bf87b5a7b89"
      },
      "execution_count": 73,
      "outputs": [
        {
          "output_type": "stream",
          "name": "stdout",
          "text": [
            "[{'board': [4, 2, 3, 5, 6, 3, 2, 4, 1, 1, 1, 1, 1, 1, 1, 1, 0, 0, 0, 0, 0, 0, 0, 0, 0, 0, 0, 0, 0, 0, 0, 0, 0, 0, 0, 0, 0, 0, 0, 0, 0, 0, 0, 0, 0, 0, 0, 0, 7, 7, 7, 7, 7, 7, 7, 7, 10, 8, 9, 11, 12, 9, 8, 10], 'turn': 1, 'castling': [1, 1, 1, 1], 'ep_square': -1, 'halfmove': 0, 'fullmove': 1}, {'board': [4, 2, 3, 5, 6, 3, 2, 4, 1, 1, 1, 1, 0, 1, 1, 1, 0, 0, 0, 0, 0, 0, 0, 0, 0, 0, 0, 0, 1, 0, 0, 0, 0, 0, 0, 0, 0, 0, 0, 0, 0, 0, 0, 0, 0, 0, 0, 0, 7, 7, 7, 7, 7, 7, 7, 7, 10, 8, 9, 11, 12, 9, 8, 10], 'turn': 0, 'castling': [1, 1, 1, 1], 'ep_square': -1, 'halfmove': 0, 'fullmove': 1}, {'board': [4, 2, 3, 5, 6, 3, 2, 4, 1, 1, 1, 1, 0, 1, 1, 1, 0, 0, 0, 0, 0, 0, 0, 0, 0, 0, 0, 0, 1, 0, 0, 0, 0, 0, 0, 0, 0, 0, 0, 0, 0, 0, 0, 0, 7, 0, 0, 0, 7, 7, 7, 7, 0, 7, 7, 7, 10, 8, 9, 11, 12, 9, 8, 10], 'turn': 1, 'castling': [1, 1, 1, 1], 'ep_square': -1, 'halfmove': 0, 'fullmove': 2}, {'board': [4, 2, 3, 5, 6, 3, 2, 4, 1, 1, 1, 1, 0, 0, 1, 1, 0, 0, 0, 0, 0, 0, 0, 0, 0, 0, 0, 0, 1, 1, 0, 0, 0, 0, 0, 0, 0, 0, 0, 0, 0, 0, 0, 0, 7, 0, 0, 0, 7, 7, 7, 7, 0, 7, 7, 7, 10, 8, 9, 11, 12, 9, 8, 10], 'turn': 0, 'castling': [1, 1, 1, 1], 'ep_square': -1, 'halfmove': 0, 'fullmove': 2}, {'board': [4, 2, 3, 5, 6, 3, 2, 4, 1, 1, 1, 1, 0, 0, 1, 1, 0, 0, 0, 0, 0, 0, 0, 0, 0, 0, 0, 0, 1, 1, 0, 0, 0, 0, 0, 7, 0, 0, 0, 0, 0, 0, 0, 0, 7, 0, 0, 0, 7, 7, 7, 0, 0, 7, 7, 7, 10, 8, 9, 11, 12, 9, 8, 10], 'turn': 1, 'castling': [1, 1, 1, 1], 'ep_square': -1, 'halfmove': 0, 'fullmove': 3}, {'board': [4, 2, 3, 5, 6, 3, 2, 4, 1, 1, 1, 1, 0, 0, 1, 1, 0, 0, 0, 0, 0, 0, 0, 0, 0, 0, 0, 0, 0, 1, 0, 0, 0, 0, 0, 7, 1, 0, 0, 0, 0, 0, 0, 0, 7, 0, 0, 0, 7, 7, 7, 0, 0, 7, 7, 7, 10, 8, 9, 11, 12, 9, 8, 10], 'turn': 0, 'castling': [1, 1, 1, 1], 'ep_square': -1, 'halfmove': 0, 'fullmove': 3}, {'board': [4, 2, 3, 5, 6, 3, 2, 4, 1, 1, 1, 1, 0, 0, 1, 1, 0, 0, 0, 0, 0, 0, 0, 0, 0, 0, 0, 0, 0, 1, 0, 0, 0, 0, 7, 7, 1, 0, 0, 0, 0, 0, 0, 0, 7, 0, 0, 0, 7, 7, 0, 0, 0, 7, 7, 7, 10, 8, 9, 11, 12, 9, 8, 10], 'turn': 1, 'castling': [1, 1, 1, 1], 'ep_square': -1, 'halfmove': 0, 'fullmove': 4}, {'board': [4, 2, 3, 5, 6, 3, 0, 4, 1, 1, 1, 1, 0, 0, 1, 1, 0, 0, 0, 0, 0, 2, 0, 0, 0, 0, 0, 0, 0, 1, 0, 0, 0, 0, 7, 7, 1, 0, 0, 0, 0, 0, 0, 0, 7, 0, 0, 0, 7, 7, 0, 0, 0, 7, 7, 7, 10, 8, 9, 11, 12, 9, 8, 10], 'turn': 0, 'castling': [1, 1, 1, 1], 'ep_square': -1, 'halfmove': 1, 'fullmove': 4}, {'board': [4, 2, 3, 5, 6, 3, 0, 4, 1, 1, 1, 1, 0, 0, 1, 1, 0, 0, 0, 0, 0, 2, 0, 0, 0, 0, 0, 0, 0, 1, 0, 0, 0, 0, 7, 7, 1, 0, 0, 0, 0, 11, 0, 0, 7, 0, 0, 0, 7, 7, 0, 0, 0, 7, 7, 7, 10, 8, 9, 0, 12, 9, 8, 10], 'turn': 1, 'castling': [1, 1, 1, 1], 'ep_square': -1, 'halfmove': 2, 'fullmove': 5}, {'board': [4, 2, 3, 5, 6, 3, 0, 4, 1, 1, 0, 1, 0, 0, 1, 1, 0, 0, 1, 0, 0, 2, 0, 0, 0, 0, 0, 0, 0, 1, 0, 0, 0, 0, 7, 7, 1, 0, 0, 0, 0, 11, 0, 0, 7, 0, 0, 0, 7, 7, 0, 0, 0, 7, 7, 7, 10, 8, 9, 0, 12, 9, 8, 10], 'turn': 0, 'castling': [1, 1, 1, 1], 'ep_square': -1, 'halfmove': 0, 'fullmove': 5}, {'board': [4, 2, 3, 5, 6, 3, 0, 4, 1, 1, 0, 1, 0, 0, 1, 1, 0, 0, 1, 0, 0, 2, 0, 0, 0, 0, 0, 0, 0, 1, 0, 0, 0, 0, 7, 7, 1, 0, 0, 0, 0, 11, 8, 0, 7, 0, 0, 0, 7, 7, 0, 0, 0, 7, 7, 7, 10, 0, 9, 0, 12, 9, 8, 10], 'turn': 1, 'castling': [1, 1, 1, 1], 'ep_square': -1, 'halfmove': 1, 'fullmove': 6}, {'board': [4, 2, 3, 5, 6, 3, 0, 4, 1, 1, 0, 0, 0, 0, 1, 1, 0, 0, 1, 1, 0, 2, 0, 0, 0, 0, 0, 0, 0, 1, 0, 0, 0, 0, 7, 7, 1, 0, 0, 0, 0, 11, 8, 0, 7, 0, 0, 0, 7, 7, 0, 0, 0, 7, 7, 7, 10, 0, 9, 0, 12, 9, 8, 10], 'turn': 0, 'castling': [1, 1, 1, 1], 'ep_square': -1, 'halfmove': 0, 'fullmove': 6}, {'board': [4, 2, 3, 5, 6, 3, 0, 4, 1, 1, 0, 0, 0, 0, 1, 1, 0, 0, 1, 1, 0, 2, 0, 0, 0, 0, 0, 0, 0, 1, 0, 0, 0, 0, 7, 7, 1, 0, 0, 0, 0, 11, 8, 0, 7, 0, 0, 0, 7, 7, 0, 9, 0, 7, 7, 7, 10, 0, 0, 0, 12, 9, 8, 10], 'turn': 1, 'castling': [1, 1, 1, 1], 'ep_square': -1, 'halfmove': 1, 'fullmove': 7}, {'board': [4, 2, 3, 5, 6, 0, 0, 4, 1, 1, 0, 0, 3, 0, 1, 1, 0, 0, 1, 1, 0, 2, 0, 0, 0, 0, 0, 0, 0, 1, 0, 0, 0, 0, 7, 7, 1, 0, 0, 0, 0, 11, 8, 0, 7, 0, 0, 0, 7, 7, 0, 9, 0, 7, 7, 7, 10, 0, 0, 0, 12, 9, 8, 10], 'turn': 0, 'castling': [1, 1, 1, 1], 'ep_square': -1, 'halfmove': 2, 'fullmove': 7}, {'board': [4, 2, 3, 5, 6, 0, 0, 4, 1, 1, 0, 0, 3, 0, 1, 1, 0, 0, 1, 1, 0, 2, 0, 0, 0, 0, 0, 0, 0, 1, 0, 0, 0, 0, 7, 7, 1, 0, 0, 0, 0, 11, 8, 0, 7, 0, 0, 8, 7, 7, 0, 9, 0, 7, 7, 7, 10, 0, 0, 0, 12, 9, 0, 10], 'turn': 1, 'castling': [1, 1, 1, 1], 'ep_square': -1, 'halfmove': 3, 'fullmove': 8}, {'board': [4, 2, 3, 5, 0, 4, 6, 0, 1, 1, 0, 0, 3, 0, 1, 1, 0, 0, 1, 1, 0, 2, 0, 0, 0, 0, 0, 0, 0, 1, 0, 0, 0, 0, 7, 7, 1, 0, 0, 0, 0, 11, 8, 0, 7, 0, 0, 8, 7, 7, 0, 9, 0, 7, 7, 7, 10, 0, 0, 0, 12, 9, 0, 10], 'turn': 0, 'castling': [0, 0, 1, 1], 'ep_square': -1, 'halfmove': 4, 'fullmove': 8}, {'board': [4, 2, 3, 5, 0, 4, 6, 0, 1, 1, 0, 0, 3, 0, 1, 1, 0, 0, 1, 1, 0, 2, 0, 0, 0, 0, 0, 0, 0, 1, 0, 0, 0, 0, 7, 7, 1, 8, 0, 0, 0, 11, 8, 0, 7, 0, 0, 0, 7, 7, 0, 9, 0, 7, 7, 7, 10, 0, 0, 0, 12, 9, 0, 10], 'turn': 1, 'castling': [0, 0, 1, 1], 'ep_square': -1, 'halfmove': 5, 'fullmove': 9}, {'board': [4, 2, 3, 5, 0, 4, 6, 0, 1, 1, 0, 0, 3, 0, 0, 1, 0, 0, 1, 1, 0, 2, 0, 0, 0, 0, 0, 0, 0, 1, 1, 0, 0, 0, 7, 7, 1, 8, 0, 0, 0, 11, 8, 0, 7, 0, 0, 0, 7, 7, 0, 9, 0, 7, 7, 7, 10, 0, 0, 0, 12, 9, 0, 10], 'turn': 0, 'castling': [0, 0, 1, 1], 'ep_square': -1, 'halfmove': 0, 'fullmove': 9}, {'board': [4, 2, 3, 5, 0, 4, 6, 0, 1, 1, 0, 0, 3, 0, 0, 1, 0, 0, 1, 1, 0, 2, 0, 0, 0, 0, 0, 0, 0, 1, 1, 0, 0, 0, 7, 7, 1, 0, 0, 0, 0, 11, 8, 0, 7, 0, 0, 8, 7, 7, 0, 9, 0, 7, 7, 7, 10, 0, 0, 0, 12, 9, 0, 10], 'turn': 1, 'castling': [0, 0, 1, 1], 'ep_square': -1, 'halfmove': 1, 'fullmove': 10}, {'board': [4, 2, 3, 5, 0, 4, 0, 0, 1, 1, 0, 0, 3, 0, 6, 1, 0, 0, 1, 1, 0, 2, 0, 0, 0, 0, 0, 0, 0, 1, 1, 0, 0, 0, 7, 7, 1, 0, 0, 0, 0, 11, 8, 0, 7, 0, 0, 8, 7, 7, 0, 9, 0, 7, 7, 7, 10, 0, 0, 0, 12, 9, 0, 10], 'turn': 0, 'castling': [0, 0, 1, 1], 'ep_square': -1, 'halfmove': 2, 'fullmove': 10}, {'board': [4, 2, 3, 5, 0, 4, 0, 0, 1, 1, 0, 0, 3, 0, 6, 1, 0, 0, 1, 1, 0, 2, 0, 0, 0, 0, 0, 0, 0, 1, 8, 0, 0, 0, 7, 7, 1, 0, 0, 0, 0, 11, 8, 0, 7, 0, 0, 0, 7, 7, 0, 9, 0, 7, 7, 7, 10, 0, 0, 0, 12, 9, 0, 10], 'turn': 1, 'castling': [0, 0, 1, 1], 'ep_square': -1, 'halfmove': 0, 'fullmove': 11}, {'board': [4, 2, 3, 5, 0, 4, 0, 0, 1, 1, 0, 0, 3, 0, 6, 0, 0, 0, 1, 1, 0, 2, 0, 1, 0, 0, 0, 0, 0, 1, 8, 0, 0, 0, 7, 7, 1, 0, 0, 0, 0, 11, 8, 0, 7, 0, 0, 0, 7, 7, 0, 9, 0, 7, 7, 7, 10, 0, 0, 0, 12, 9, 0, 10], 'turn': 0, 'castling': [0, 0, 1, 1], 'ep_square': -1, 'halfmove': 0, 'fullmove': 11}, {'board': [4, 2, 3, 5, 0, 4, 0, 0, 1, 1, 0, 0, 3, 0, 6, 0, 0, 0, 1, 1, 0, 2, 0, 1, 0, 0, 0, 0, 0, 1, 0, 0, 0, 0, 7, 7, 1, 0, 0, 0, 0, 11, 8, 0, 7, 0, 0, 8, 7, 7, 0, 9, 0, 7, 7, 7, 10, 0, 0, 0, 12, 9, 0, 10], 'turn': 1, 'castling': [0, 0, 1, 1], 'ep_square': -1, 'halfmove': 1, 'fullmove': 12}, {'board': [4, 2, 3, 5, 0, 4, 0, 0, 1, 1, 0, 0, 3, 0, 6, 0, 0, 0, 1, 1, 0, 0, 0, 1, 0, 0, 0, 0, 0, 1, 0, 0, 0, 0, 7, 7, 1, 0, 2, 0, 0, 11, 8, 0, 7, 0, 0, 8, 7, 7, 0, 9, 0, 7, 7, 7, 10, 0, 0, 0, 12, 9, 0, 10], 'turn': 0, 'castling': [0, 0, 1, 1], 'ep_square': -1, 'halfmove': 2, 'fullmove': 12}, {'board': [4, 2, 3, 5, 0, 4, 0, 0, 1, 1, 0, 0, 3, 0, 6, 0, 0, 0, 1, 1, 0, 0, 0, 1, 0, 0, 0, 0, 0, 1, 0, 0, 0, 0, 7, 7, 1, 8, 2, 0, 0, 11, 8, 0, 7, 0, 0, 0, 7, 7, 0, 9, 0, 7, 7, 7, 10, 0, 0, 0, 12, 9, 0, 10], 'turn': 1, 'castling': [0, 0, 1, 1], 'ep_square': -1, 'halfmove': 3, 'fullmove': 13}, {'board': [4, 2, 3, 5, 0, 4, 0, 0, 1, 1, 0, 0, 0, 0, 6, 0, 0, 0, 1, 1, 0, 0, 0, 1, 0, 0, 0, 0, 0, 1, 3, 0, 0, 0, 7, 7, 1, 8, 2, 0, 0, 11, 8, 0, 7, 0, 0, 0, 7, 7, 0, 9, 0, 7, 7, 7, 10, 0, 0, 0, 12, 9, 0, 10], 'turn': 0, 'castling': [0, 0, 1, 1], 'ep_square': -1, 'halfmove': 4, 'fullmove': 13}, {'board': [4, 2, 3, 5, 0, 4, 0, 0, 1, 1, 0, 0, 0, 0, 6, 0, 0, 0, 1, 1, 0, 0, 0, 1, 0, 0, 0, 0, 0, 1, 3, 0, 0, 0, 7, 7, 1, 8, 2, 0, 0, 11, 0, 0, 7, 0, 0, 0, 7, 7, 0, 9, 8, 7, 7, 7, 10, 0, 0, 0, 12, 9, 0, 10], 'turn': 1, 'castling': [0, 0, 1, 1], 'ep_square': -1, 'halfmove': 5, 'fullmove': 14}, {'board': [4, 0, 3, 5, 0, 4, 0, 0, 1, 1, 0, 2, 0, 0, 6, 0, 0, 0, 1, 1, 0, 0, 0, 1, 0, 0, 0, 0, 0, 1, 3, 0, 0, 0, 7, 7, 1, 8, 2, 0, 0, 11, 0, 0, 7, 0, 0, 0, 7, 7, 0, 9, 8, 7, 7, 7, 10, 0, 0, 0, 12, 9, 0, 10], 'turn': 0, 'castling': [0, 0, 1, 1], 'ep_square': -1, 'halfmove': 6, 'fullmove': 14}, {'board': [4, 0, 3, 5, 0, 4, 0, 0, 1, 1, 0, 2, 0, 0, 6, 0, 0, 0, 1, 1, 8, 0, 0, 1, 0, 0, 0, 0, 0, 1, 3, 0, 0, 0, 7, 7, 1, 0, 2, 0, 0, 11, 0, 0, 7, 0, 0, 0, 7, 7, 0, 9, 8, 7, 7, 7, 10, 0, 0, 0, 12, 9, 0, 10], 'turn': 1, 'castling': [0, 0, 1, 1], 'ep_square': -1, 'halfmove': 7, 'fullmove': 15}, {'board': [4, 0, 3, 5, 0, 4, 0, 0, 1, 1, 0, 2, 0, 0, 0, 0, 0, 0, 1, 1, 8, 6, 0, 1, 0, 0, 0, 0, 0, 1, 3, 0, 0, 0, 7, 7, 1, 0, 2, 0, 0, 11, 0, 0, 7, 0, 0, 0, 7, 7, 0, 9, 8, 7, 7, 7, 10, 0, 0, 0, 12, 9, 0, 10], 'turn': 0, 'castling': [0, 0, 1, 1], 'ep_square': -1, 'halfmove': 8, 'fullmove': 15}, {'board': [4, 0, 3, 8, 0, 4, 0, 0, 1, 1, 0, 2, 0, 0, 0, 0, 0, 0, 1, 1, 0, 6, 0, 1, 0, 0, 0, 0, 0, 1, 3, 0, 0, 0, 7, 7, 1, 0, 2, 0, 0, 11, 0, 0, 7, 0, 0, 0, 7, 7, 0, 9, 8, 7, 7, 7, 10, 0, 0, 0, 12, 9, 0, 10], 'turn': 1, 'castling': [0, 0, 1, 1], 'ep_square': -1, 'halfmove': 0, 'fullmove': 16}, {'board': [4, 0, 3, 4, 0, 0, 0, 0, 1, 1, 0, 2, 0, 0, 0, 0, 0, 0, 1, 1, 0, 6, 0, 1, 0, 0, 0, 0, 0, 1, 3, 0, 0, 0, 7, 7, 1, 0, 2, 0, 0, 11, 0, 0, 7, 0, 0, 0, 7, 7, 0, 9, 8, 7, 7, 7, 10, 0, 0, 0, 12, 9, 0, 10], 'turn': 0, 'castling': [0, 0, 1, 1], 'ep_square': -1, 'halfmove': 0, 'fullmove': 16}, {'board': [4, 0, 3, 4, 0, 0, 0, 0, 1, 1, 0, 2, 0, 0, 0, 0, 0, 0, 1, 1, 0, 6, 0, 1, 0, 0, 0, 0, 0, 1, 3, 0, 0, 0, 7, 7, 1, 0, 2, 0, 0, 11, 0, 0, 7, 0, 0, 7, 7, 7, 0, 9, 8, 7, 7, 0, 10, 0, 0, 0, 12, 9, 0, 10], 'turn': 1, 'castling': [0, 0, 1, 1], 'ep_square': -1, 'halfmove': 0, 'fullmove': 17}, {'board': [4, 0, 3, 4, 0, 0, 0, 0, 1, 1, 0, 2, 0, 0, 0, 0, 0, 0, 1, 1, 0, 6, 0, 1, 0, 0, 0, 0, 0, 1, 3, 0, 0, 0, 7, 7, 1, 0, 0, 0, 0, 11, 0, 0, 7, 0, 0, 7, 7, 7, 0, 9, 8, 2, 7, 0, 10, 0, 0, 0, 12, 9, 0, 10], 'turn': 0, 'castling': [0, 0, 1, 1], 'ep_square': -1, 'halfmove': 0, 'fullmove': 17}, {'board': [4, 0, 3, 4, 0, 0, 0, 0, 1, 1, 0, 2, 0, 0, 0, 0, 0, 0, 1, 1, 0, 6, 0, 1, 0, 0, 0, 0, 0, 1, 3, 0, 0, 0, 7, 7, 1, 0, 0, 0, 0, 11, 0, 0, 7, 0, 0, 7, 7, 7, 0, 9, 8, 12, 7, 0, 10, 0, 0, 0, 0, 9, 0, 10], 'turn': 1, 'castling': [0, 0, 0, 0], 'ep_square': -1, 'halfmove': 0, 'fullmove': 18}, {'board': [4, 0, 3, 0, 0, 4, 0, 0, 1, 1, 0, 2, 0, 0, 0, 0, 0, 0, 1, 1, 0, 6, 0, 1, 0, 0, 0, 0, 0, 1, 3, 0, 0, 0, 7, 7, 1, 0, 0, 0, 0, 11, 0, 0, 7, 0, 0, 7, 7, 7, 0, 9, 8, 12, 7, 0, 10, 0, 0, 0, 0, 9, 0, 10], 'turn': 0, 'castling': [0, 0, 0, 0], 'ep_square': -1, 'halfmove': 1, 'fullmove': 18}, {'board': [4, 0, 3, 0, 0, 4, 0, 0, 1, 1, 0, 2, 0, 0, 0, 0, 0, 0, 1, 1, 0, 6, 0, 1, 0, 0, 0, 0, 0, 1, 3, 0, 0, 0, 7, 7, 1, 0, 0, 7, 0, 11, 0, 0, 7, 0, 0, 0, 7, 7, 0, 9, 8, 12, 7, 0, 10, 0, 0, 0, 0, 9, 0, 10], 'turn': 1, 'castling': [0, 0, 0, 0], 'ep_square': -1, 'halfmove': 0, 'fullmove': 19}, {'board': [4, 0, 3, 0, 0, 4, 0, 0, 1, 1, 0, 2, 0, 0, 0, 0, 0, 0, 1, 1, 0, 6, 0, 1, 0, 0, 0, 0, 0, 1, 0, 0, 0, 0, 7, 7, 1, 0, 0, 7, 0, 11, 0, 0, 3, 0, 0, 0, 7, 7, 0, 9, 8, 12, 7, 0, 10, 0, 0, 0, 0, 9, 0, 10], 'turn': 0, 'castling': [0, 0, 0, 0], 'ep_square': -1, 'halfmove': 0, 'fullmove': 19}, {'board': [4, 0, 3, 0, 0, 4, 0, 0, 1, 1, 0, 2, 0, 0, 0, 0, 0, 0, 1, 1, 0, 6, 0, 1, 0, 0, 0, 0, 0, 1, 0, 0, 0, 0, 7, 7, 1, 0, 0, 7, 0, 11, 0, 0, 9, 0, 0, 0, 7, 7, 0, 0, 8, 12, 7, 0, 10, 0, 0, 0, 0, 9, 0, 10], 'turn': 1, 'castling': [0, 0, 0, 0], 'ep_square': -1, 'halfmove': 0, 'fullmove': 20}, {'board': [4, 0, 3, 0, 0, 4, 0, 0, 1, 1, 0, 2, 0, 0, 0, 0, 0, 0, 1, 1, 0, 0, 6, 1, 0, 0, 0, 0, 0, 1, 0, 0, 0, 0, 7, 7, 1, 0, 0, 7, 0, 11, 0, 0, 9, 0, 0, 0, 7, 7, 0, 0, 8, 12, 7, 0, 10, 0, 0, 0, 0, 9, 0, 10], 'turn': 0, 'castling': [0, 0, 0, 0], 'ep_square': -1, 'halfmove': 1, 'fullmove': 20}, {'board': [4, 0, 3, 0, 0, 4, 0, 0, 1, 1, 0, 2, 0, 0, 0, 0, 0, 0, 1, 1, 0, 0, 6, 1, 0, 0, 0, 0, 0, 1, 0, 0, 0, 0, 7, 7, 1, 8, 0, 7, 0, 11, 0, 0, 9, 0, 0, 0, 7, 7, 0, 0, 0, 12, 7, 0, 10, 0, 0, 0, 0, 9, 0, 10], 'turn': 1, 'castling': [0, 0, 0, 0], 'ep_square': -1, 'halfmove': 2, 'fullmove': 21}, {'board': [4, 0, 3, 0, 0, 4, 0, 0, 1, 1, 0, 2, 0, 0, 6, 0, 0, 0, 1, 1, 0, 0, 0, 1, 0, 0, 0, 0, 0, 1, 0, 0, 0, 0, 7, 7, 1, 8, 0, 7, 0, 11, 0, 0, 9, 0, 0, 0, 7, 7, 0, 0, 0, 12, 7, 0, 10, 0, 0, 0, 0, 9, 0, 10], 'turn': 0, 'castling': [0, 0, 0, 0], 'ep_square': -1, 'halfmove': 3, 'fullmove': 21}, {'board': [4, 0, 3, 0, 0, 4, 0, 0, 1, 1, 0, 2, 0, 0, 6, 0, 0, 0, 1, 1, 8, 0, 0, 1, 0, 0, 0, 0, 0, 1, 0, 0, 0, 0, 7, 7, 1, 0, 0, 7, 0, 11, 0, 0, 9, 0, 0, 0, 7, 7, 0, 0, 0, 12, 7, 0, 10, 0, 0, 0, 0, 9, 0, 10], 'turn': 1, 'castling': [0, 0, 0, 0], 'ep_square': -1, 'halfmove': 4, 'fullmove': 22}, {'board': [4, 0, 3, 0, 0, 4, 0, 0, 1, 1, 0, 2, 0, 6, 0, 0, 0, 0, 1, 1, 8, 0, 0, 1, 0, 0, 0, 0, 0, 1, 0, 0, 0, 0, 7, 7, 1, 0, 0, 7, 0, 11, 0, 0, 9, 0, 0, 0, 7, 7, 0, 0, 0, 12, 7, 0, 10, 0, 0, 0, 0, 9, 0, 10], 'turn': 0, 'castling': [0, 0, 0, 0], 'ep_square': -1, 'halfmove': 5, 'fullmove': 22}, {'board': [4, 0, 3, 0, 0, 8, 0, 0, 1, 1, 0, 2, 0, 6, 0, 0, 0, 0, 1, 1, 0, 0, 0, 1, 0, 0, 0, 0, 0, 1, 0, 0, 0, 0, 7, 7, 1, 0, 0, 7, 0, 11, 0, 0, 9, 0, 0, 0, 7, 7, 0, 0, 0, 12, 7, 0, 10, 0, 0, 0, 0, 9, 0, 10], 'turn': 1, 'castling': [0, 0, 0, 0], 'ep_square': -1, 'halfmove': 0, 'fullmove': 23}, {'board': [4, 0, 3, 0, 0, 6, 0, 0, 1, 1, 0, 2, 0, 0, 0, 0, 0, 0, 1, 1, 0, 0, 0, 1, 0, 0, 0, 0, 0, 1, 0, 0, 0, 0, 7, 7, 1, 0, 0, 7, 0, 11, 0, 0, 9, 0, 0, 0, 7, 7, 0, 0, 0, 12, 7, 0, 10, 0, 0, 0, 0, 9, 0, 10], 'turn': 0, 'castling': [0, 0, 0, 0], 'ep_square': -1, 'halfmove': 0, 'fullmove': 23}, {'board': [4, 0, 3, 0, 0, 6, 0, 0, 1, 1, 0, 2, 0, 0, 0, 0, 0, 0, 1, 1, 0, 0, 0, 9, 0, 0, 0, 0, 0, 1, 0, 0, 0, 0, 7, 7, 1, 0, 0, 7, 0, 11, 0, 0, 0, 0, 0, 0, 7, 7, 0, 0, 0, 12, 7, 0, 10, 0, 0, 0, 0, 9, 0, 10], 'turn': 1, 'castling': [0, 0, 0, 0], 'ep_square': -1, 'halfmove': 0, 'fullmove': 24}]\n"
          ]
        }
      ]
    },
    {
      "cell_type": "code",
      "source": [
        "print(tensores[0].keys())"
      ],
      "metadata": {
        "id": "diPcdhqluBO7",
        "outputId": "4f1f4015-5be4-4542-fff2-f4f9b345a8a9",
        "colab": {
          "base_uri": "https://localhost:8080/"
        }
      },
      "execution_count": 78,
      "outputs": [
        {
          "output_type": "stream",
          "name": "stdout",
          "text": [
            "dict_keys(['board', 'turn', 'castling', 'ep_square', 'halfmove', 'fullmove'])\n"
          ]
        }
      ]
    },
    {
      "cell_type": "code",
      "source": [
        "print(enumerate(posiciones))"
      ],
      "metadata": {
        "colab": {
          "base_uri": "https://localhost:8080/"
        },
        "id": "nRe2C6yk10u1",
        "outputId": "fe25db24-080d-48a7-ea25-cbec2b7a9079"
      },
      "execution_count": null,
      "outputs": [
        {
          "output_type": "stream",
          "name": "stdout",
          "text": [
            "<enumerate object at 0x7f10065cfdd0>\n"
          ]
        }
      ]
    },
    {
      "cell_type": "code",
      "metadata": {
        "colab": {
          "base_uri": "https://localhost:8080/"
        },
        "id": "791cc816",
        "outputId": "9e1d3a04-9600-4565-ef7b-26d045778bee"
      },
      "source": [
        "# Assuming 'pgn' object is already loaded from the pgn_text\n",
        "eco_code = pgn.headers[\"ECO\"]\n",
        "print(eco_code)"
      ],
      "execution_count": null,
      "outputs": [
        {
          "output_type": "stream",
          "name": "stdout",
          "text": [
            "C00\n"
          ]
        }
      ]
    }
  ]
}